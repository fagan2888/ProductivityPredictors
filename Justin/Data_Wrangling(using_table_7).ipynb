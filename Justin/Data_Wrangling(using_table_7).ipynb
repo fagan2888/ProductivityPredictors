{
 "cells": [
  {
   "cell_type": "code",
   "execution_count": 1,
   "metadata": {
    "collapsed": true
   },
   "outputs": [],
   "source": [
    "import pandas as pd\n",
    "import numpy as np\n",
    "import os\n",
    "import matplotlib.pyplot as plt\n",
    "\n",
    "%matplotlib inline"
   ]
  },
  {
   "cell_type": "markdown",
   "metadata": {},
   "source": [
    "###### Data "
   ]
  },
  {
   "cell_type": "code",
   "execution_count": 2,
   "metadata": {},
   "outputs": [
    {
     "data": {
      "text/plain": [
       "(112575, 55)"
      ]
     },
     "execution_count": 2,
     "metadata": {},
     "output_type": "execute_result"
    }
   ],
   "source": [
    "df = pd.read_csv(\"Ethiopia_final_female_dataset_7.csv\")\n",
    "df.shape"
   ]
  },
  {
   "cell_type": "markdown",
   "metadata": {},
   "source": [
    "###### Null Values per Column"
   ]
  },
  {
   "cell_type": "code",
   "execution_count": 29,
   "metadata": {},
   "outputs": [
    {
     "data": {
      "text/plain": [
       "Highest_Grade_Completed                0\n",
       "sex_of_hh_member                       0\n",
       "age_of_hh_member                       0\n",
       "marital_status                         0\n",
       "hours_per_week_agg                     0\n",
       "hours_per_week_non_agg                 0\n",
       "bank_account                           0\n",
       "field_id                               0\n",
       "Num_of_Hired_Men                   22639\n",
       "Num_of_Hired_Women                 22636\n",
       "Use_Fertilizer                         0\n",
       "Use_Manure_Fertilizer                  0\n",
       "crop_code                              0\n",
       "Type_of_Planting                       0\n",
       "Amount_of_field_planted            66603\n",
       "chemical_fertilizers_used              0\n",
       "extension_program                      0\n",
       "Credit_Services                        0\n",
       "advisory_Services                      0\n",
       "Crop_Rotation                          0\n",
       "who_in_charge_of_crops                 0\n",
       "who_decides_crops_2_sell               0\n",
       "who_takes_care_of_Crops                0\n",
       "who_decides_on_use_of_income           0\n",
       "who_decides_on_use_of_crops            0\n",
       "who_buys_agg_supplies                  0\n",
       "did_you_harvest_crop_from_field        0\n",
       "amt_of_crop_harvest                 3104\n",
       "amt_of_crop_harvest_units           3104\n",
       "amt_days_men_hired                  3376\n",
       "daily_wage_per_man                 71084\n",
       "amt_days_women_hired                3376\n",
       "daily_wage_per_woman               88171\n",
       "amt_days_children_hired             3376\n",
       "daily_wage_per_child               90701\n",
       "Did_You_sell_harvest_crop              0\n",
       "value_of_Crop_sales                62822\n",
       "household_size                         0\n",
       "worry_enough_food_to_eat_weekly        0\n",
       "Cat_Hours_per_day_agg                  0\n",
       "region_code_1                          0\n",
       "region_code_2                          0\n",
       "region_code_3                          0\n",
       "region_code_4                          0\n",
       "region_code_5                          0\n",
       "region_code_6                          0\n",
       "region_code_7                          0\n",
       "region_code_12                         0\n",
       "region_code_13                         0\n",
       "region_code_14                         0\n",
       "hired_men                              0\n",
       "hired_women                            0\n",
       "female                                 0\n",
       "harvest_crop_from_field                0\n",
       "dtype: int64"
      ]
     },
     "execution_count": 29,
     "metadata": {},
     "output_type": "execute_result"
    }
   ],
   "source": [
    "df.isnull().sum()"
   ]
  },
  {
   "cell_type": "markdown",
   "metadata": {},
   "source": [
    "###### Let me know if you think any of these should be included anyways"
   ]
  },
  {
   "cell_type": "code",
   "execution_count": 33,
   "metadata": {
    "collapsed": true
   },
   "outputs": [],
   "source": [
    "remove_cols = [\"Amount_of_field_planted\",\n",
    "               \"daily_wage_per_man\",\"daily_wage_per_woman\",\n",
    "               \"daily_wage_per_child\", \"amt_days_men_hired\", \n",
    "               \"amt_days_women_hired\", \"amt_days_children_hired\",  \n",
    "               \"Num_of_Hired_Men\", \"Num_of_Hired_Women\", \"value_of_Crop_sales\", \n",
    "               \"crop_name\"\n",
    "              ]\n",
    "\n",
    "df = df.drop(remove_cols, axis=1, errors = \"ignore\")"
   ]
  },
  {
   "cell_type": "code",
   "execution_count": 34,
   "metadata": {
    "scrolled": true
   },
   "outputs": [
    {
     "data": {
      "text/plain": [
       "(91231, 44)"
      ]
     },
     "execution_count": 34,
     "metadata": {},
     "output_type": "execute_result"
    }
   ],
   "source": [
    "df.shape"
   ]
  },
  {
   "cell_type": "code",
   "execution_count": 35,
   "metadata": {},
   "outputs": [
    {
     "data": {
      "text/plain": [
       "Highest_Grade_Completed               0\n",
       "sex_of_hh_member                      0\n",
       "age_of_hh_member                      0\n",
       "marital_status                        0\n",
       "hours_per_week_agg                    0\n",
       "hours_per_week_non_agg                0\n",
       "bank_account                          0\n",
       "field_id                              0\n",
       "Use_Fertilizer                        0\n",
       "Use_Manure_Fertilizer                 0\n",
       "crop_code                             0\n",
       "Type_of_Planting                      0\n",
       "chemical_fertilizers_used             0\n",
       "extension_program                     0\n",
       "Credit_Services                       0\n",
       "advisory_Services                     0\n",
       "Crop_Rotation                         0\n",
       "who_in_charge_of_crops                0\n",
       "who_decides_crops_2_sell              0\n",
       "who_takes_care_of_Crops               0\n",
       "who_decides_on_use_of_income          0\n",
       "who_decides_on_use_of_crops           0\n",
       "who_buys_agg_supplies                 0\n",
       "did_you_harvest_crop_from_field       0\n",
       "amt_of_crop_harvest                3104\n",
       "amt_of_crop_harvest_units          3104\n",
       "Did_You_sell_harvest_crop             0\n",
       "household_size                        0\n",
       "worry_enough_food_to_eat_weekly       0\n",
       "Cat_Hours_per_day_agg                 0\n",
       "region_code_1                         0\n",
       "region_code_2                         0\n",
       "region_code_3                         0\n",
       "region_code_4                         0\n",
       "region_code_5                         0\n",
       "region_code_6                         0\n",
       "region_code_7                         0\n",
       "region_code_12                        0\n",
       "region_code_13                        0\n",
       "region_code_14                        0\n",
       "hired_men                             0\n",
       "hired_women                           0\n",
       "female                                0\n",
       "harvest_crop_from_field               0\n",
       "dtype: int64"
      ]
     },
     "execution_count": 35,
     "metadata": {},
     "output_type": "execute_result"
    }
   ],
   "source": [
    "df.isnull().sum()"
   ]
  },
  {
   "cell_type": "markdown",
   "metadata": {},
   "source": [
    "###### Drop na values\n",
    "\n",
    "Farzana mentioned using a threshold which I had no idea was a thing but apparently it is"
   ]
  },
  {
   "cell_type": "code",
   "execution_count": 36,
   "metadata": {},
   "outputs": [],
   "source": [
    "df = df.dropna(axis=0,how=\"any\", thresh=16)"
   ]
  },
  {
   "cell_type": "code",
   "execution_count": 37,
   "metadata": {},
   "outputs": [
    {
     "data": {
      "text/plain": [
       "(91231, 44)"
      ]
     },
     "execution_count": 37,
     "metadata": {},
     "output_type": "execute_result"
    }
   ],
   "source": [
    "df.shape"
   ]
  },
  {
   "cell_type": "markdown",
   "metadata": {},
   "source": [
    "###### Hours Aggregate\n",
    "\n",
    "The way this is now is if an instance/row contains hours_per_week_agg, hours_per_week_other_jobs, and hours_per_week_collect_water it would sum all three and add a column to the dataframe to represent this. The other three columns remain there. I don't know if you guys want to approach this another way. Let me know."
   ]
  },
  {
   "cell_type": "code",
   "execution_count": 38,
   "metadata": {},
   "outputs": [
    {
     "name": "stdout",
     "output_type": "stream",
     "text": [
      "<class 'pandas.core.frame.DataFrame'>\n",
      "Int64Index: 91231 entries, 0 to 112574\n",
      "Data columns (total 44 columns):\n",
      "Highest_Grade_Completed            91231 non-null int64\n",
      "sex_of_hh_member                   91231 non-null int64\n",
      "age_of_hh_member                   91231 non-null int64\n",
      "marital_status                     91231 non-null int64\n",
      "hours_per_week_agg                 91231 non-null float64\n",
      "hours_per_week_non_agg             91231 non-null float64\n",
      "bank_account                       91231 non-null int64\n",
      "field_id                           91231 non-null int64\n",
      "Use_Fertilizer                     91231 non-null int64\n",
      "Use_Manure_Fertilizer              91231 non-null int64\n",
      "crop_code                          91231 non-null int64\n",
      "Type_of_Planting                   91231 non-null int64\n",
      "chemical_fertilizers_used          91231 non-null int64\n",
      "extension_program                  91231 non-null int64\n",
      "Credit_Services                    91231 non-null int64\n",
      "advisory_Services                  91231 non-null int64\n",
      "Crop_Rotation                      91231 non-null int64\n",
      "who_in_charge_of_crops             91231 non-null int64\n",
      "who_decides_crops_2_sell           91231 non-null int64\n",
      "who_takes_care_of_Crops            91231 non-null int64\n",
      "who_decides_on_use_of_income       91231 non-null int64\n",
      "who_decides_on_use_of_crops        91231 non-null int64\n",
      "who_buys_agg_supplies              91231 non-null int64\n",
      "did_you_harvest_crop_from_field    91231 non-null int64\n",
      "amt_of_crop_harvest                88127 non-null float64\n",
      "amt_of_crop_harvest_units          88127 non-null float64\n",
      "Did_You_sell_harvest_crop          91231 non-null int64\n",
      "household_size                     91231 non-null int64\n",
      "worry_enough_food_to_eat_weekly    91231 non-null int64\n",
      "Cat_Hours_per_day_agg              91231 non-null int64\n",
      "region_code_1                      91231 non-null int64\n",
      "region_code_2                      91231 non-null int64\n",
      "region_code_3                      91231 non-null int64\n",
      "region_code_4                      91231 non-null int64\n",
      "region_code_5                      91231 non-null int64\n",
      "region_code_6                      91231 non-null int64\n",
      "region_code_7                      91231 non-null int64\n",
      "region_code_12                     91231 non-null int64\n",
      "region_code_13                     91231 non-null int64\n",
      "region_code_14                     91231 non-null int64\n",
      "hired_men                          91231 non-null int64\n",
      "hired_women                        91231 non-null int64\n",
      "female                             91231 non-null int64\n",
      "harvest_crop_from_field            91231 non-null int64\n",
      "dtypes: float64(4), int64(40)\n",
      "memory usage: 31.3 MB\n"
     ]
    }
   ],
   "source": [
    "df.info()"
   ]
  },
  {
   "cell_type": "markdown",
   "metadata": {},
   "source": [
    "###### We need all instances where our hours is null deleted"
   ]
  },
  {
   "cell_type": "code",
   "execution_count": 39,
   "metadata": {},
   "outputs": [],
   "source": [
    "df = df[np.isfinite(df[\"hours_per_week_agg\"])]"
   ]
  },
  {
   "cell_type": "code",
   "execution_count": 26,
   "metadata": {},
   "outputs": [
    {
     "name": "stdout",
     "output_type": "stream",
     "text": [
      "<class 'pandas.core.frame.DataFrame'>\n",
      "Int64Index: 91231 entries, 0 to 112574\n",
      "Data columns (total 54 columns):\n",
      "Highest_Grade_Completed            91231 non-null int64\n",
      "sex_of_hh_member                   91231 non-null int64\n",
      "age_of_hh_member                   91231 non-null int64\n",
      "marital_status                     91231 non-null int64\n",
      "hours_per_week_agg                 91231 non-null float64\n",
      "hours_per_week_non_agg             91231 non-null float64\n",
      "bank_account                       91231 non-null int64\n",
      "field_id                           91231 non-null int64\n",
      "Num_of_Hired_Men                   68592 non-null float64\n",
      "Num_of_Hired_Women                 68595 non-null float64\n",
      "Use_Fertilizer                     91231 non-null int64\n",
      "Use_Manure_Fertilizer              91231 non-null int64\n",
      "crop_code                          91231 non-null int64\n",
      "Type_of_Planting                   91231 non-null int64\n",
      "Amount_of_field_planted            24628 non-null float64\n",
      "chemical_fertilizers_used          91231 non-null int64\n",
      "extension_program                  91231 non-null int64\n",
      "Credit_Services                    91231 non-null int64\n",
      "advisory_Services                  91231 non-null int64\n",
      "Crop_Rotation                      91231 non-null int64\n",
      "who_in_charge_of_crops             91231 non-null int64\n",
      "who_decides_crops_2_sell           91231 non-null int64\n",
      "who_takes_care_of_Crops            91231 non-null int64\n",
      "who_decides_on_use_of_income       91231 non-null int64\n",
      "who_decides_on_use_of_crops        91231 non-null int64\n",
      "who_buys_agg_supplies              91231 non-null int64\n",
      "did_you_harvest_crop_from_field    91231 non-null int64\n",
      "amt_of_crop_harvest                88127 non-null float64\n",
      "amt_of_crop_harvest_units          88127 non-null float64\n",
      "amt_days_men_hired                 87855 non-null float64\n",
      "daily_wage_per_man                 20147 non-null float64\n",
      "amt_days_women_hired               87855 non-null float64\n",
      "daily_wage_per_woman               3060 non-null float64\n",
      "amt_days_children_hired            87855 non-null float64\n",
      "daily_wage_per_child               530 non-null float64\n",
      "Did_You_sell_harvest_crop          91231 non-null int64\n",
      "value_of_Crop_sales                28409 non-null float64\n",
      "household_size                     91231 non-null int64\n",
      "worry_enough_food_to_eat_weekly    91231 non-null int64\n",
      "Cat_Hours_per_day_agg              91231 non-null int64\n",
      "region_code_1                      91231 non-null int64\n",
      "region_code_2                      91231 non-null int64\n",
      "region_code_3                      91231 non-null int64\n",
      "region_code_4                      91231 non-null int64\n",
      "region_code_5                      91231 non-null int64\n",
      "region_code_6                      91231 non-null int64\n",
      "region_code_7                      91231 non-null int64\n",
      "region_code_12                     91231 non-null int64\n",
      "region_code_13                     91231 non-null int64\n",
      "region_code_14                     91231 non-null int64\n",
      "hired_men                          91231 non-null int64\n",
      "hired_women                        91231 non-null int64\n",
      "female                             91231 non-null int64\n",
      "harvest_crop_from_field            91231 non-null int64\n",
      "dtypes: float64(14), int64(40)\n",
      "memory usage: 38.3 MB\n"
     ]
    }
   ],
   "source": [
    "df.info()"
   ]
  },
  {
   "cell_type": "markdown",
   "metadata": {},
   "source": [
    "###### Remaining variables with NA values\n",
    "\n",
    "1. Removing \"Num_of_Hired_Men\", \"Num_of_Hired_Women\", \"value_of_Crop_sales\", \"reason_no_chemicals_used\", \"Use_Fertilizer\", \"Use_Manure_Fertilizer\"\n",
    "2. Imputing Highest_Grade_Completed, marital_status, amt_of_crop_harvest, amt_of_crop_harvest_units\n"
   ]
  },
  {
   "cell_type": "code",
   "execution_count": 43,
   "metadata": {
    "collapsed": true
   },
   "outputs": [],
   "source": [
    "impute_list=[\"amt_of_crop_harvest\", \"amt_of_crop_harvest_units\",\"Highest_Grade_Completed\", \"marital_status\" ]\n",
    "for i in impute_list:\n",
    "    df[i] = df[i].fillna(np.mean(df[i]))"
   ]
  },
  {
   "cell_type": "code",
   "execution_count": 45,
   "metadata": {},
   "outputs": [
    {
     "name": "stdout",
     "output_type": "stream",
     "text": [
      "<class 'pandas.core.frame.DataFrame'>\n",
      "Int64Index: 91231 entries, 0 to 112574\n",
      "Data columns (total 44 columns):\n",
      "Highest_Grade_Completed            91231 non-null int64\n",
      "sex_of_hh_member                   91231 non-null int64\n",
      "age_of_hh_member                   91231 non-null int64\n",
      "marital_status                     91231 non-null int64\n",
      "hours_per_week_agg                 91231 non-null float64\n",
      "hours_per_week_non_agg             91231 non-null float64\n",
      "bank_account                       91231 non-null int64\n",
      "field_id                           91231 non-null int64\n",
      "Use_Fertilizer                     91231 non-null int64\n",
      "Use_Manure_Fertilizer              91231 non-null int64\n",
      "crop_code                          91231 non-null int64\n",
      "Type_of_Planting                   91231 non-null int64\n",
      "chemical_fertilizers_used          91231 non-null int64\n",
      "extension_program                  91231 non-null int64\n",
      "Credit_Services                    91231 non-null int64\n",
      "advisory_Services                  91231 non-null int64\n",
      "Crop_Rotation                      91231 non-null int64\n",
      "who_in_charge_of_crops             91231 non-null int64\n",
      "who_decides_crops_2_sell           91231 non-null int64\n",
      "who_takes_care_of_Crops            91231 non-null int64\n",
      "who_decides_on_use_of_income       91231 non-null int64\n",
      "who_decides_on_use_of_crops        91231 non-null int64\n",
      "who_buys_agg_supplies              91231 non-null int64\n",
      "did_you_harvest_crop_from_field    91231 non-null int64\n",
      "amt_of_crop_harvest                91231 non-null float64\n",
      "amt_of_crop_harvest_units          91231 non-null float64\n",
      "Did_You_sell_harvest_crop          91231 non-null int64\n",
      "household_size                     91231 non-null int64\n",
      "worry_enough_food_to_eat_weekly    91231 non-null int64\n",
      "Cat_Hours_per_day_agg              91231 non-null int64\n",
      "region_code_1                      91231 non-null int64\n",
      "region_code_2                      91231 non-null int64\n",
      "region_code_3                      91231 non-null int64\n",
      "region_code_4                      91231 non-null int64\n",
      "region_code_5                      91231 non-null int64\n",
      "region_code_6                      91231 non-null int64\n",
      "region_code_7                      91231 non-null int64\n",
      "region_code_12                     91231 non-null int64\n",
      "region_code_13                     91231 non-null int64\n",
      "region_code_14                     91231 non-null int64\n",
      "hired_men                          91231 non-null int64\n",
      "hired_women                        91231 non-null int64\n",
      "female                             91231 non-null int64\n",
      "harvest_crop_from_field            91231 non-null int64\n",
      "dtypes: float64(4), int64(40)\n",
      "memory usage: 33.8 MB\n"
     ]
    }
   ],
   "source": [
    "df.info()"
   ]
  },
  {
   "cell_type": "markdown",
   "metadata": {},
   "source": [
    "###### Test Train Split"
   ]
  },
  {
   "cell_type": "code",
   "execution_count": 46,
   "metadata": {
    "collapsed": true
   },
   "outputs": [],
   "source": [
    "features=[]\n",
    "target=[]\n",
    "for i in df.columns:\n",
    "    if i == \"hours_per_week_agg\":\n",
    "        target = i\n",
    "    else:\n",
    "        features.append(i)\n",
    "    \n",
    "X=df[features]\n",
    "y=df[target]\n",
    "\n",
    "from sklearn.model_selection import train_test_split as tts\n",
    "X_train, X_test, y_train, y_test = tts(X,y,test_size=.25)"
   ]
  },
  {
   "cell_type": "markdown",
   "metadata": {},
   "source": [
    "###### Feature Selection"
   ]
  },
  {
   "cell_type": "code",
   "execution_count": 41,
   "metadata": {
    "collapsed": true
   },
   "outputs": [],
   "source": [
    "from sklearn.decomposition import PCA\n",
    "from sklearn.feature_selection import SelectFromModel\n",
    "from sklearn.linear_model import Ridge, Lasso, ElasticNet\n",
    "from sklearn.discriminant_analysis import LinearDiscriminantAnalysis as LDA"
   ]
  },
  {
   "cell_type": "markdown",
   "metadata": {},
   "source": [
    "###### Lasso"
   ]
  },
  {
   "cell_type": "code",
   "execution_count": 50,
   "metadata": {
    "scrolled": true
   },
   "outputs": [
    {
     "name": "stdout",
     "output_type": "stream",
     "text": [
      "[('Highest_Grade_Completed', -0.0), ('sex_of_hh_member', 0.0), ('age_of_hh_member', 0.02198464616585929), ('marital_status', 0.0), ('hours_per_week_non_agg', -0.0), ('bank_account', 0.0), ('field_id', -0.0), ('Use_Fertilizer', 0.0), ('Use_Manure_Fertilizer', 0.0), ('crop_code', -0.02393783665919863), ('Type_of_Planting', -0.0), ('chemical_fertilizers_used', 0.0), ('extension_program', 0.0), ('Credit_Services', -0.0), ('advisory_Services', 0.0), ('Crop_Rotation', -0.0), ('who_in_charge_of_crops', -0.0), ('who_decides_crops_2_sell', 0.0), ('who_takes_care_of_Crops', 0.0), ('who_decides_on_use_of_income', -0.0), ('who_decides_on_use_of_crops', -0.0), ('who_buys_agg_supplies', 0.0), ('did_you_harvest_crop_from_field', -0.0), ('amt_of_crop_harvest', -0.0001987530396861691), ('amt_of_crop_harvest_units', 0.002352243307903605), ('Did_You_sell_harvest_crop', -0.0), ('household_size', -0.22462777648122925), ('worry_enough_food_to_eat_weekly', 0.0), ('Cat_Hours_per_day_agg', 0.0), ('region_code_1', -0.0), ('region_code_2', -0.0), ('region_code_3', 0.0), ('region_code_4', 0.0), ('region_code_5', 0.0), ('region_code_6', -0.0), ('region_code_7', -0.0), ('region_code_12', -0.0), ('region_code_13', 0.0), ('region_code_14', 0.0), ('hired_men', 0.0), ('hired_women', -0.0), ('female', 0.0), ('harvest_crop_from_field', 0.0)]\n"
     ]
    }
   ],
   "source": [
    "model=Lasso()\n",
    "model.fit(X,y)\n",
    "list_coef = (list(zip(X, model.coef_.tolist())))\n",
    "print(list_coef)"
   ]
  },
  {
   "cell_type": "markdown",
   "metadata": {},
   "source": [
    "# From initial run\n",
    "[('household_id2', 1.7900567059971688e-19), ('individual_id2', -1.1248309377496083e-33), ('region_code', 0.0), ('zone_code', -0.0), ('Highest_Grade_Completed', -0.0), ('hh_member_relationship', -0.0), ('age_of_hh_member', 0.0), ('marital_status', 0.0), ('hours_per_week_agg', 0.9966888506825081), ('hours_per_week_other_jobs', 0.8720209786885195), ('hours_per_week_collect_water', 0.9602750031886453), ('pw_w3', 3.761335842530066e-06), ('field_id', -0.0), ('crop_code', -0.0), ('Type_of_Planting', 0.0), ('chemical_fertilizers_used', 0.0), ('extension_program', -0.0), ('Credit_Services', 0.0), ('advisory_Services', -0.0), ('Crop_Rotation', 0.0), ('who_in_charge_of_crops', 0.0), ('who_decides_crops_2_sell', 0.0), ('who_takes_care_of_Crops', 0.0), ('who_decides_on_use_of_income', -0.0), ('who_decides_on_use_of_crops', -0.0), ('who_buys_agg_supplies', 0.0), ('did_you_harvest_crop_from_field', 0.0), ('amt_of_crop_harvest', -0.0), ('amt_of_crop_harvest_units', 8.750118543908295e-05), ('Did_You_sell_harvest_crop', 0.0), ('household_size', -0.0), ('worry_enough_food_to_eat_weekly', -0.0)]\n"
   ]
  },
  {
   "cell_type": "markdown",
   "metadata": {},
   "source": [
    "###### Ridge Regression"
   ]
  },
  {
   "cell_type": "code",
   "execution_count": 51,
   "metadata": {},
   "outputs": [
    {
     "name": "stdout",
     "output_type": "stream",
     "text": [
      "[('Highest_Grade_Completed', -0.09491418416684955), ('sex_of_hh_member', 0.0), ('age_of_hh_member', 0.021629135804531144), ('marital_status', 0.32502456185893597), ('hours_per_week_non_agg', -0.03466108966973892), ('bank_account', 1.1883137665615338), ('field_id', -0.016146070085455544), ('Use_Fertilizer', 0.6778673870616504), ('Use_Manure_Fertilizer', 0.2373168706643411), ('crop_code', -0.008421719976219166), ('Type_of_Planting', -0.8868345932418472), ('chemical_fertilizers_used', 1.1009709088521225), ('extension_program', 0.33977792126665957), ('Credit_Services', -1.083633787961061), ('advisory_Services', 1.062308694980649), ('Crop_Rotation', -0.996034777444527), ('who_in_charge_of_crops', -2.4974021354526843), ('who_decides_crops_2_sell', 1.3565197199118342), ('who_takes_care_of_Crops', 0.5696946643216936), ('who_decides_on_use_of_income', -1.109835610462028), ('who_decides_on_use_of_crops', -1.9790009002761122), ('who_buys_agg_supplies', 1.684453340433386), ('did_you_harvest_crop_from_field', -0.9195378563133757), ('amt_of_crop_harvest', -0.00019796031402216535), ('amt_of_crop_harvest_units', -0.002619845022635651), ('Did_You_sell_harvest_crop', -0.03490057044676937), ('household_size', -0.27911864803854974), ('worry_enough_food_to_eat_weekly', 1.241442888575167), ('Cat_Hours_per_day_agg', 54.347752845870836), ('region_code_1', -3.7801189337562002), ('region_code_2', -1.2355738558456424), ('region_code_3', -1.9301692235118428), ('region_code_4', -1.0985978296707783), ('region_code_5', 0.9929933759796706), ('region_code_6', -5.37968361137696), ('region_code_7', -0.975926645144621), ('region_code_12', -1.1976139834410782), ('region_code_13', -0.8420595910274664), ('region_code_14', 0.0), ('hired_men', 0.0764985443197111), ('hired_women', -0.7738638090284937), ('female', 0.0), ('harvest_crop_from_field', 0.0)]\n"
     ]
    }
   ],
   "source": [
    "model=Ridge()\n",
    "model.fit(X,y)\n",
    "print(list(zip(X, model.coef_.tolist())))"
   ]
  },
  {
   "cell_type": "markdown",
   "metadata": {},
   "source": [
    "# FROM INITIAL RUN\n",
    "[('household_id2', -0.00011377282253654575), ('individual_id2', 1.1377282253656609e-06), ('region_code', -1.6984427595565115e-05), ('zone_code', 0.002100892973754474), ('Highest_Grade_Completed', 0.0028621366671080723), ('hh_member_relationship', -0.0008461938349009987), ('age_of_hh_member', 0.007323402155976766), ('marital_status', -0.001822833926294073), ('hours_per_week_agg', 0.03862091978412398), ('hours_per_week_other_jobs', 0.009513826678535562), ('hours_per_week_collect_water', 0.01351227163945599), ('pw_w3', 0.0002748597925027143), ('field_id', -0.00027806386707959177), ('crop_code', 0.014497554307559382), ('Type_of_Planting', 0.0001401066730552195), ('chemical_fertilizers_used', 0.0016234887399554916), ('extension_program', 0.00130986285045193), ('Credit_Services', -0.0004369620653555577), ('advisory_Services', -0.0017095830105649048), ('Crop_Rotation', -0.0016783710793883224), ('who_in_charge_of_crops', 0.0015311395795368494), ('who_decides_crops_2_sell', 0.0005090491505874793), ('who_takes_care_of_Crops', -0.0021742319394741864), ('who_decides_on_use_of_income', 0.0006569957902576515), ('who_decides_on_use_of_crops', 0.0019087495836524852), ('who_buys_agg_supplies', 0.0034820784195330676), ('did_you_harvest_crop_from_field', 0.00015737014883288335), ('amt_of_crop_harvest', -0.0001341491886544724), ('amt_of_crop_harvest_units', 0.0024736060569214707), ('Did_You_sell_harvest_crop', -0.0005607927366591589), ('household_size', -0.004358125317943709), ('worry_enough_food_to_eat_weekly', -0.0004492599459916827)]"
   ]
  },
  {
   "cell_type": "markdown",
   "metadata": {},
   "source": [
    "###### Non-Relevant Variables from Ridge\n",
    "\n",
    "Most of these do not do much in terms of predicting  "
   ]
  },
  {
   "cell_type": "markdown",
   "metadata": {},
   "source": [
    "###### ElasticNet"
   ]
  },
  {
   "cell_type": "code",
   "execution_count": 52,
   "metadata": {},
   "outputs": [
    {
     "name": "stdout",
     "output_type": "stream",
     "text": [
      "[('Highest_Grade_Completed', -0.0), ('sex_of_hh_member', 0.0), ('age_of_hh_member', 0.02296047998374614), ('marital_status', 0.0), ('hours_per_week_non_agg', -0.0029642822773104116), ('bank_account', 0.0), ('field_id', -0.0), ('Use_Fertilizer', 0.0), ('Use_Manure_Fertilizer', 0.0), ('crop_code', -0.029273586395375438), ('Type_of_Planting', -0.0), ('chemical_fertilizers_used', 0.0), ('extension_program', 0.0), ('Credit_Services', -0.0), ('advisory_Services', 0.0), ('Crop_Rotation', -0.0), ('who_in_charge_of_crops', -0.0), ('who_decides_crops_2_sell', 0.0), ('who_takes_care_of_Crops', 0.0), ('who_decides_on_use_of_income', -0.0), ('who_decides_on_use_of_crops', -0.0), ('who_buys_agg_supplies', 0.0), ('did_you_harvest_crop_from_field', -0.0), ('amt_of_crop_harvest', -0.00019916107260865002), ('amt_of_crop_harvest_units', 0.0023351667237679567), ('Did_You_sell_harvest_crop', -0.0), ('household_size', -0.2507418872001198), ('worry_enough_food_to_eat_weekly', 0.0), ('Cat_Hours_per_day_agg', 0.5933159770322762), ('region_code_1', -0.0), ('region_code_2', -0.0), ('region_code_3', 0.0), ('region_code_4', 0.0), ('region_code_5', 0.0), ('region_code_6', -0.0), ('region_code_7', -0.0), ('region_code_12', -0.0), ('region_code_13', 0.0), ('region_code_14', 0.0), ('hired_men', 0.0), ('hired_women', -0.0), ('female', 0.0), ('harvest_crop_from_field', 0.0)]\n"
     ]
    }
   ],
   "source": [
    "model=ElasticNet()\n",
    "model.fit(X,y)\n",
    "print(list(zip(X, model.coef_.tolist())))"
   ]
  },
  {
   "cell_type": "markdown",
   "metadata": {},
   "source": [
    "# FROM INITIAL RUN\n",
    "[('household_id2', 2.0059666083035012e-19), ('individual_id2', -1.1857442916616215e-33), ('region_code', 0.0), ('zone_code', -0.0), ('Highest_Grade_Completed', -0.0), ('hh_member_relationship', -0.0), ('age_of_hh_member', 0.0), ('marital_status', 0.0), ('hours_per_week_agg', 0.996621867375889), ('hours_per_week_other_jobs', 0.8797665720786633), ('hours_per_week_collect_water', 0.9609169456502756), ('pw_w3', 3.9511150141063575e-06), ('field_id', -0.0), ('crop_code', -0.0), ('Type_of_Planting', 0.0), ('chemical_fertilizers_used', 0.0), ('extension_program', -0.0), ('Credit_Services', 0.0), ('advisory_Services', -0.0), ('Crop_Rotation', 0.0), ('who_in_charge_of_crops', 0.0), ('who_decides_crops_2_sell', 0.0), ('who_takes_care_of_Crops', 0.0), ('who_decides_on_use_of_income', -0.0), ('who_decides_on_use_of_crops', -0.0), ('who_buys_agg_supplies', 0.0), ('did_you_harvest_crop_from_field', 0.0), ('amt_of_crop_harvest', -0.0), ('amt_of_crop_harvest_units', 0.00019669428601380522), ('Did_You_sell_harvest_crop', 0.0), ('household_size', -0.0), ('worry_enough_food_to_eat_weekly', -0.0)]\n"
   ]
  },
  {
   "cell_type": "markdown",
   "metadata": {},
   "source": [
    "# I DIDN'T RUN ANYTHING OF THE CODE BELOW"
   ]
  },
  {
   "cell_type": "markdown",
   "metadata": {},
   "source": [
    "###### Relevant Variables from Elastic Net\n",
    "\n",
    "Most of these aren't predictive... in fact, none of them are"
   ]
  },
  {
   "cell_type": "markdown",
   "metadata": {},
   "source": [
    "##### Let's Try Predicting Something else? "
   ]
  },
  {
   "cell_type": "code",
   "execution_count": 36,
   "metadata": {
    "collapsed": true
   },
   "outputs": [],
   "source": [
    "features=[]\n",
    "target=[]\n",
    "for i in newdf.columns:\n",
    "    if i == \"amt_of_crop_harvest\":\n",
    "        target = i\n",
    "    else:\n",
    "        features.append(i)\n",
    "    \n",
    "X=newdf[features]\n",
    "y=newdf[target]"
   ]
  },
  {
   "cell_type": "code",
   "execution_count": 37,
   "metadata": {},
   "outputs": [
    {
     "name": "stdout",
     "output_type": "stream",
     "text": [
      "[('household_id2', 1.0118844747552739e-17), ('individual_id2', 1.4200075415432828e-32), ('region_code', 0.0), ('zone_code', -0.01710711284824186), ('Highest_Grade_Completed', 0.22394851029922486), ('hh_member_relationship', 7.026614373472177), ('age_of_hh_member', 0.3948809531872091), ('marital_status', 3.460978770361136), ('hours_per_week_agg', -0.3038727286319278), ('hours_per_week_other_jobs', -0.4280800160140795), ('hours_per_week_collect_water', 0.7927378425455821), ('pw_w3', 0.002114605419942631), ('field_id', 5.465158271562243), ('crop_code', 0.15516151316065185), ('Type_of_Planting', -0.0), ('chemical_fertilizers_used', 0.0), ('extension_program', -0.7453187195349944), ('Credit_Services', 9.860570781423476), ('advisory_Services', -0.0), ('Crop_Rotation', -0.0), ('who_in_charge_of_crops', -4.410730289517462), ('who_decides_crops_2_sell', 1.6949480749590673), ('who_takes_care_of_Crops', -1.358078653350188), ('who_decides_on_use_of_income', 4.904528716082275), ('who_decides_on_use_of_crops', -3.0938374323944964), ('who_buys_agg_supplies', 0.0), ('did_you_harvest_crop_from_field', -0.0), ('amt_of_crop_harvest_units', -0.23132415767936543), ('Did_You_sell_harvest_crop', 3.584984476173431), ('household_size', 0.1544702997444491), ('worry_enough_food_to_eat_weekly', 0.0), ('total_hours', -0.00018573996748854992)]\n"
     ]
    },
    {
     "name": "stderr",
     "output_type": "stream",
     "text": [
      "/Users/dominic/anaconda3/lib/python3.6/site-packages/sklearn/linear_model/coordinate_descent.py:491: ConvergenceWarning: Objective did not converge. You might want to increase the number of iterations. Fitting data with very small alpha may cause precision problems.\n",
      "  ConvergenceWarning)\n"
     ]
    }
   ],
   "source": [
    "model=Lasso()\n",
    "model.fit(X,y)\n",
    "print(list(zip(X, model.coef_.tolist())))"
   ]
  },
  {
   "cell_type": "code",
   "execution_count": 38,
   "metadata": {},
   "outputs": [
    {
     "name": "stdout",
     "output_type": "stream",
     "text": [
      "[('household_id2', 0.0011027642906406379), ('individual_id2', -1.1027642906405848e-05), ('region_code', 0.009882010138504514), ('zone_code', -0.0015710529683062874), ('Highest_Grade_Completed', -0.0004928431013475326), ('hh_member_relationship', 0.04063562887888802), ('age_of_hh_member', 0.0007487439441409872), ('marital_status', 0.00409971023793574), ('hours_per_week_agg', -0.01036762416050832), ('hours_per_week_other_jobs', 0.005259263396645317), ('hours_per_week_collect_water', 0.0033710036254466077), ('pw_w3', 0.0020698220968470146), ('field_id', 0.038008729384469545), ('crop_code', 0.00956371561375291), ('Type_of_Planting', -0.011264479823013278), ('chemical_fertilizers_used', 0.009625767641334415), ('extension_program', -0.01316685358243057), ('Credit_Services', 0.017254466519452102), ('advisory_Services', -0.0062497490334287005), ('Crop_Rotation', 0.011973847339900017), ('who_in_charge_of_crops', -0.019861657047953216), ('who_decides_crops_2_sell', 0.00940585834933155), ('who_takes_care_of_Crops', -0.028847288453199657), ('who_decides_on_use_of_income', -0.003145876166437598), ('who_decides_on_use_of_crops', -0.028806150096287928), ('who_buys_agg_supplies', -0.00581023078395089), ('did_you_harvest_crop_from_field', -0.006536434831192143), ('amt_of_crop_harvest_units', -0.0429626554284723), ('Did_You_sell_harvest_crop', 0.009915779086245398), ('household_size', -0.005761246840738912), ('worry_enough_food_to_eat_weekly', -0.01702155715915196), ('total_hours', -0.0011723772355570212)]\n"
     ]
    }
   ],
   "source": [
    "model=Ridge()\n",
    "model.fit(X,y)\n",
    "print(list(zip(X, model.coef_.tolist())))"
   ]
  },
  {
   "cell_type": "code",
   "execution_count": 40,
   "metadata": {},
   "outputs": [
    {
     "name": "stdout",
     "output_type": "stream",
     "text": [
      "[('household_id2', 3.1120568586615416e-17), ('individual_id2', -1.880360458276201e-31), ('region_code', 0.0), ('zone_code', -0.07232002847959472), ('Highest_Grade_Completed', 0.26005618579956047), ('hh_member_relationship', 6.249190511010038), ('age_of_hh_member', 0.4106723813632568), ('marital_status', 2.5341136318213033), ('hours_per_week_agg', -0.304755663568333), ('hours_per_week_other_jobs', -0.41080347391801775), ('hours_per_week_collect_water', 0.7448425276770909), ('pw_w3', 0.0021707306331870567), ('field_id', 5.202946517824157), ('crop_code', 0.14257438939481543), ('Type_of_Planting', -0.01838586608986682), ('chemical_fertilizers_used', 0.7582870239127271), ('extension_program', -0.8363094984954217), ('Credit_Services', 3.0869347729749), ('advisory_Services', -0.0), ('Crop_Rotation', -0.30047433176613103), ('who_in_charge_of_crops', -3.81138024207396), ('who_decides_crops_2_sell', 1.7608868287840709), ('who_takes_care_of_Crops', -1.4097781218369216), ('who_decides_on_use_of_income', 3.9012695468526157), ('who_decides_on_use_of_crops', -2.504852631284556), ('who_buys_agg_supplies', -0.0), ('did_you_harvest_crop_from_field', -0.0), ('amt_of_crop_harvest_units', -0.22523594693658527), ('Did_You_sell_harvest_crop', 1.8883966502126943), ('household_size', 0.2358312658337597), ('worry_enough_food_to_eat_weekly', 0.0), ('total_hours', -0.0)]\n"
     ]
    },
    {
     "name": "stderr",
     "output_type": "stream",
     "text": [
      "/Users/dominic/anaconda3/lib/python3.6/site-packages/sklearn/linear_model/coordinate_descent.py:491: ConvergenceWarning: Objective did not converge. You might want to increase the number of iterations. Fitting data with very small alpha may cause precision problems.\n",
      "  ConvergenceWarning)\n"
     ]
    }
   ],
   "source": [
    "model=ElasticNet()\n",
    "model.fit(X,y)\n",
    "print(list(zip(X, model.coef_.tolist())))"
   ]
  },
  {
   "cell_type": "markdown",
   "metadata": {},
   "source": [
    "###### This does seem to have more predictive features.\n",
    "\n",
    "I can try factoring the variables I talked about earlier and re-run the Lasso, Ridge, ElasticNet and see what it comes out to.\n",
    "\n",
    "###### Ex. \n",
    "\n",
    "hour_bins=[0,2,4,6,8,10,12,14,16,20,28,40,60,100,140]\n",
    "\n",
    "bin_names=[\"0-2 Hours\",\"2-4 Hours\",\"4-6 Hours\",\"6-8 Hours\",\"8-10 Hours\",\n",
    "           \"10-12 Hours\",\"12-14 Hours\",\"14-16 Hours\", \"16-20 Hours\",\n",
    "           \"20-28 Hours\",\"28-40 Hours\", \"40-60 Hours\", \"100-140 Hours\",\n",
    "           \"140+ Hours\"\n",
    "          ]\n",
    "          \n",
    "x=newdf[\"total_hours\"]\n",
    "\n",
    "newdf[\"total_hours\"]=pd.cut(x,hour_bins,labels=bin_names)\n",
    "          \n",
    "I would need to come up with bins for each of those variables and then the data would fall into those categories. Then we would need to encode it to put it back in the model. I'll start on this in case you guys want to go this way but let me know so I don't waste time."
   ]
  },
  {
   "cell_type": "code",
   "execution_count": null,
   "metadata": {
    "collapsed": true
   },
   "outputs": [],
   "source": []
  }
 ],
 "metadata": {
  "kernelspec": {
   "display_name": "Python 3",
   "language": "python",
   "name": "python3"
  },
  "language_info": {
   "codemirror_mode": {
    "name": "ipython",
    "version": 3
   },
   "file_extension": ".py",
   "mimetype": "text/x-python",
   "name": "python",
   "nbconvert_exporter": "python",
   "pygments_lexer": "ipython3",
   "version": "3.6.3"
  }
 },
 "nbformat": 4,
 "nbformat_minor": 2
}
