{
 "cells": [
  {
   "cell_type": "code",
   "execution_count": 1,
   "metadata": {
    "collapsed": true
   },
   "outputs": [],
   "source": [
    "import pandas as pd\n",
    "import numpy as np\n",
    "import os\n",
    "import matplotlib.pyplot as plt\n",
    "\n",
    "%matplotlib inline"
   ]
  },
  {
   "cell_type": "markdown",
   "metadata": {},
   "source": [
    "###### Data "
   ]
  },
  {
   "cell_type": "code",
   "execution_count": 2,
   "metadata": {
    "scrolled": true
   },
   "outputs": [
    {
     "data": {
      "text/plain": [
       "(112575, 48)"
      ]
     },
     "execution_count": 2,
     "metadata": {},
     "output_type": "execute_result"
    }
   ],
   "source": [
    "df = pd.read_csv(\"Ethiopia_final_female_dataset-3.csv\")\n",
    "df.shape"
   ]
  },
  {
   "cell_type": "code",
   "execution_count": 3,
   "metadata": {},
   "outputs": [
    {
     "data": {
      "text/html": [
       "<div>\n",
       "<style>\n",
       "    .dataframe thead tr:only-child th {\n",
       "        text-align: right;\n",
       "    }\n",
       "\n",
       "    .dataframe thead th {\n",
       "        text-align: left;\n",
       "    }\n",
       "\n",
       "    .dataframe tbody tr th {\n",
       "        vertical-align: top;\n",
       "    }\n",
       "</style>\n",
       "<table border=\"1\" class=\"dataframe\">\n",
       "  <thead>\n",
       "    <tr style=\"text-align: right;\">\n",
       "      <th></th>\n",
       "      <th>household_id2</th>\n",
       "      <th>individual_id2</th>\n",
       "      <th>region_code</th>\n",
       "      <th>zone_code</th>\n",
       "      <th>Highest_Grade_Completed</th>\n",
       "      <th>hh_member_relationship</th>\n",
       "      <th>sex_of_hh_member</th>\n",
       "      <th>age_of_hh_member</th>\n",
       "      <th>marital_status</th>\n",
       "      <th>hours_per_week_agg</th>\n",
       "      <th>...</th>\n",
       "      <th>amt_days_men_hired</th>\n",
       "      <th>daily_wage_per_man</th>\n",
       "      <th>amt_days_women_hired</th>\n",
       "      <th>daily_wage_per_woman</th>\n",
       "      <th>amt_days_children_hired</th>\n",
       "      <th>daily_wage_per_child</th>\n",
       "      <th>Did_You_sell_harvest_crop</th>\n",
       "      <th>value_of_Crop_sales</th>\n",
       "      <th>household_size</th>\n",
       "      <th>worry_enough_food_to_eat_weekly</th>\n",
       "    </tr>\n",
       "  </thead>\n",
       "  <tbody>\n",
       "    <tr>\n",
       "      <th>0</th>\n",
       "      <td>10101088801601002</td>\n",
       "      <td>1.010109e+18</td>\n",
       "      <td>1</td>\n",
       "      <td>1</td>\n",
       "      <td>NaN</td>\n",
       "      <td>1</td>\n",
       "      <td>2</td>\n",
       "      <td>79</td>\n",
       "      <td>6.0</td>\n",
       "      <td>0.0</td>\n",
       "      <td>...</td>\n",
       "      <td>0.0</td>\n",
       "      <td>NaN</td>\n",
       "      <td>0.0</td>\n",
       "      <td>NaN</td>\n",
       "      <td>0.0</td>\n",
       "      <td>NaN</td>\n",
       "      <td>2</td>\n",
       "      <td>NaN</td>\n",
       "      <td>9</td>\n",
       "      <td>2</td>\n",
       "    </tr>\n",
       "    <tr>\n",
       "      <th>1</th>\n",
       "      <td>10101088801601002</td>\n",
       "      <td>1.010109e+18</td>\n",
       "      <td>1</td>\n",
       "      <td>1</td>\n",
       "      <td>NaN</td>\n",
       "      <td>1</td>\n",
       "      <td>2</td>\n",
       "      <td>79</td>\n",
       "      <td>6.0</td>\n",
       "      <td>0.0</td>\n",
       "      <td>...</td>\n",
       "      <td>4.0</td>\n",
       "      <td>80.0</td>\n",
       "      <td>2.0</td>\n",
       "      <td>80.0</td>\n",
       "      <td>0.0</td>\n",
       "      <td>NaN</td>\n",
       "      <td>1</td>\n",
       "      <td>550.0</td>\n",
       "      <td>9</td>\n",
       "      <td>2</td>\n",
       "    </tr>\n",
       "    <tr>\n",
       "      <th>2</th>\n",
       "      <td>10101088801601017</td>\n",
       "      <td>1.010109e+18</td>\n",
       "      <td>1</td>\n",
       "      <td>1</td>\n",
       "      <td>NaN</td>\n",
       "      <td>2</td>\n",
       "      <td>2</td>\n",
       "      <td>33</td>\n",
       "      <td>2.0</td>\n",
       "      <td>0.0</td>\n",
       "      <td>...</td>\n",
       "      <td>0.0</td>\n",
       "      <td>NaN</td>\n",
       "      <td>0.0</td>\n",
       "      <td>NaN</td>\n",
       "      <td>0.0</td>\n",
       "      <td>NaN</td>\n",
       "      <td>1</td>\n",
       "      <td>1850.0</td>\n",
       "      <td>9</td>\n",
       "      <td>2</td>\n",
       "    </tr>\n",
       "    <tr>\n",
       "      <th>3</th>\n",
       "      <td>10101088801601017</td>\n",
       "      <td>1.010109e+18</td>\n",
       "      <td>1</td>\n",
       "      <td>1</td>\n",
       "      <td>NaN</td>\n",
       "      <td>2</td>\n",
       "      <td>2</td>\n",
       "      <td>33</td>\n",
       "      <td>2.0</td>\n",
       "      <td>0.0</td>\n",
       "      <td>...</td>\n",
       "      <td>0.0</td>\n",
       "      <td>NaN</td>\n",
       "      <td>0.0</td>\n",
       "      <td>NaN</td>\n",
       "      <td>0.0</td>\n",
       "      <td>NaN</td>\n",
       "      <td>1</td>\n",
       "      <td>3850.0</td>\n",
       "      <td>9</td>\n",
       "      <td>2</td>\n",
       "    </tr>\n",
       "    <tr>\n",
       "      <th>4</th>\n",
       "      <td>10101088801601017</td>\n",
       "      <td>1.010109e+18</td>\n",
       "      <td>1</td>\n",
       "      <td>1</td>\n",
       "      <td>NaN</td>\n",
       "      <td>2</td>\n",
       "      <td>2</td>\n",
       "      <td>33</td>\n",
       "      <td>2.0</td>\n",
       "      <td>0.0</td>\n",
       "      <td>...</td>\n",
       "      <td>0.0</td>\n",
       "      <td>NaN</td>\n",
       "      <td>0.0</td>\n",
       "      <td>NaN</td>\n",
       "      <td>0.0</td>\n",
       "      <td>NaN</td>\n",
       "      <td>1</td>\n",
       "      <td>1850.0</td>\n",
       "      <td>9</td>\n",
       "      <td>2</td>\n",
       "    </tr>\n",
       "  </tbody>\n",
       "</table>\n",
       "<p>5 rows × 48 columns</p>\n",
       "</div>"
      ],
      "text/plain": [
       "       household_id2  individual_id2  region_code  zone_code  \\\n",
       "0  10101088801601002    1.010109e+18            1          1   \n",
       "1  10101088801601002    1.010109e+18            1          1   \n",
       "2  10101088801601017    1.010109e+18            1          1   \n",
       "3  10101088801601017    1.010109e+18            1          1   \n",
       "4  10101088801601017    1.010109e+18            1          1   \n",
       "\n",
       "   Highest_Grade_Completed  hh_member_relationship  sex_of_hh_member  \\\n",
       "0                      NaN                       1                 2   \n",
       "1                      NaN                       1                 2   \n",
       "2                      NaN                       2                 2   \n",
       "3                      NaN                       2                 2   \n",
       "4                      NaN                       2                 2   \n",
       "\n",
       "   age_of_hh_member  marital_status  hours_per_week_agg  \\\n",
       "0                79             6.0                 0.0   \n",
       "1                79             6.0                 0.0   \n",
       "2                33             2.0                 0.0   \n",
       "3                33             2.0                 0.0   \n",
       "4                33             2.0                 0.0   \n",
       "\n",
       "                ...                amt_days_men_hired  daily_wage_per_man  \\\n",
       "0               ...                               0.0                 NaN   \n",
       "1               ...                               4.0                80.0   \n",
       "2               ...                               0.0                 NaN   \n",
       "3               ...                               0.0                 NaN   \n",
       "4               ...                               0.0                 NaN   \n",
       "\n",
       "   amt_days_women_hired  daily_wage_per_woman  amt_days_children_hired  \\\n",
       "0                   0.0                   NaN                      0.0   \n",
       "1                   2.0                  80.0                      0.0   \n",
       "2                   0.0                   NaN                      0.0   \n",
       "3                   0.0                   NaN                      0.0   \n",
       "4                   0.0                   NaN                      0.0   \n",
       "\n",
       "   daily_wage_per_child  Did_You_sell_harvest_crop  value_of_Crop_sales  \\\n",
       "0                   NaN                          2                  NaN   \n",
       "1                   NaN                          1                550.0   \n",
       "2                   NaN                          1               1850.0   \n",
       "3                   NaN                          1               3850.0   \n",
       "4                   NaN                          1               1850.0   \n",
       "\n",
       "   household_size worry_enough_food_to_eat_weekly  \n",
       "0               9                               2  \n",
       "1               9                               2  \n",
       "2               9                               2  \n",
       "3               9                               2  \n",
       "4               9                               2  \n",
       "\n",
       "[5 rows x 48 columns]"
      ]
     },
     "execution_count": 3,
     "metadata": {},
     "output_type": "execute_result"
    }
   ],
   "source": [
    "df.head()"
   ]
  },
  {
   "cell_type": "code",
   "execution_count": 4,
   "metadata": {},
   "outputs": [
    {
     "data": {
      "text/html": [
       "<div>\n",
       "<style>\n",
       "    .dataframe thead tr:only-child th {\n",
       "        text-align: right;\n",
       "    }\n",
       "\n",
       "    .dataframe thead th {\n",
       "        text-align: left;\n",
       "    }\n",
       "\n",
       "    .dataframe tbody tr th {\n",
       "        vertical-align: top;\n",
       "    }\n",
       "</style>\n",
       "<table border=\"1\" class=\"dataframe\">\n",
       "  <thead>\n",
       "    <tr style=\"text-align: right;\">\n",
       "      <th></th>\n",
       "      <th>household_id2</th>\n",
       "      <th>individual_id2</th>\n",
       "      <th>region_code</th>\n",
       "      <th>zone_code</th>\n",
       "      <th>Highest_Grade_Completed</th>\n",
       "      <th>hh_member_relationship</th>\n",
       "      <th>sex_of_hh_member</th>\n",
       "      <th>age_of_hh_member</th>\n",
       "      <th>marital_status</th>\n",
       "      <th>hours_per_week_agg</th>\n",
       "      <th>...</th>\n",
       "      <th>amt_days_men_hired</th>\n",
       "      <th>daily_wage_per_man</th>\n",
       "      <th>amt_days_women_hired</th>\n",
       "      <th>daily_wage_per_woman</th>\n",
       "      <th>amt_days_children_hired</th>\n",
       "      <th>daily_wage_per_child</th>\n",
       "      <th>Did_You_sell_harvest_crop</th>\n",
       "      <th>value_of_Crop_sales</th>\n",
       "      <th>household_size</th>\n",
       "      <th>worry_enough_food_to_eat_weekly</th>\n",
       "    </tr>\n",
       "  </thead>\n",
       "  <tbody>\n",
       "    <tr>\n",
       "      <th>count</th>\n",
       "      <td>1.125750e+05</td>\n",
       "      <td>1.125750e+05</td>\n",
       "      <td>112575.000000</td>\n",
       "      <td>112575.000000</td>\n",
       "      <td>47651.000000</td>\n",
       "      <td>112575.000000</td>\n",
       "      <td>112575.0</td>\n",
       "      <td>112575.000000</td>\n",
       "      <td>80458.000000</td>\n",
       "      <td>91231.000000</td>\n",
       "      <td>...</td>\n",
       "      <td>108340.000000</td>\n",
       "      <td>25111.000000</td>\n",
       "      <td>108340.000000</td>\n",
       "      <td>3646.000000</td>\n",
       "      <td>108340.000000</td>\n",
       "      <td>584.000000</td>\n",
       "      <td>112575.000000</td>\n",
       "      <td>34659.000000</td>\n",
       "      <td>112575.000000</td>\n",
       "      <td>112575.000000</td>\n",
       "    </tr>\n",
       "    <tr>\n",
       "      <th>mean</th>\n",
       "      <td>5.324147e+16</td>\n",
       "      <td>5.324147e+18</td>\n",
       "      <td>5.255972</td>\n",
       "      <td>6.763953</td>\n",
       "      <td>4.521878</td>\n",
       "      <td>2.996767</td>\n",
       "      <td>2.0</td>\n",
       "      <td>22.333795</td>\n",
       "      <td>1.950496</td>\n",
       "      <td>9.038233</td>\n",
       "      <td>...</td>\n",
       "      <td>0.760126</td>\n",
       "      <td>168.081558</td>\n",
       "      <td>0.092579</td>\n",
       "      <td>36.922655</td>\n",
       "      <td>0.011842</td>\n",
       "      <td>2.267123</td>\n",
       "      <td>1.692125</td>\n",
       "      <td>1939.106697</td>\n",
       "      <td>8.209043</td>\n",
       "      <td>1.904588</td>\n",
       "    </tr>\n",
       "    <tr>\n",
       "      <th>std</th>\n",
       "      <td>3.526112e+16</td>\n",
       "      <td>3.526112e+18</td>\n",
       "      <td>3.533630</td>\n",
       "      <td>5.487928</td>\n",
       "      <td>6.944759</td>\n",
       "      <td>1.724389</td>\n",
       "      <td>0.0</td>\n",
       "      <td>18.052795</td>\n",
       "      <td>1.325504</td>\n",
       "      <td>14.228193</td>\n",
       "      <td>...</td>\n",
       "      <td>2.080156</td>\n",
       "      <td>404.229008</td>\n",
       "      <td>0.660971</td>\n",
       "      <td>29.724146</td>\n",
       "      <td>0.192672</td>\n",
       "      <td>1.187650</td>\n",
       "      <td>0.461616</td>\n",
       "      <td>2902.320315</td>\n",
       "      <td>3.948803</td>\n",
       "      <td>0.293784</td>\n",
       "    </tr>\n",
       "    <tr>\n",
       "      <th>min</th>\n",
       "      <td>1.010109e+16</td>\n",
       "      <td>1.010109e+18</td>\n",
       "      <td>1.000000</td>\n",
       "      <td>1.000000</td>\n",
       "      <td>0.000000</td>\n",
       "      <td>1.000000</td>\n",
       "      <td>2.0</td>\n",
       "      <td>0.000000</td>\n",
       "      <td>1.000000</td>\n",
       "      <td>0.000000</td>\n",
       "      <td>...</td>\n",
       "      <td>0.000000</td>\n",
       "      <td>0.000000</td>\n",
       "      <td>0.000000</td>\n",
       "      <td>2.000000</td>\n",
       "      <td>0.000000</td>\n",
       "      <td>0.000000</td>\n",
       "      <td>1.000000</td>\n",
       "      <td>0.000000</td>\n",
       "      <td>1.000000</td>\n",
       "      <td>1.000000</td>\n",
       "    </tr>\n",
       "    <tr>\n",
       "      <th>25%</th>\n",
       "      <td>3.060409e+16</td>\n",
       "      <td>3.060409e+18</td>\n",
       "      <td>3.000000</td>\n",
       "      <td>2.000000</td>\n",
       "      <td>1.000000</td>\n",
       "      <td>2.000000</td>\n",
       "      <td>2.0</td>\n",
       "      <td>8.000000</td>\n",
       "      <td>1.000000</td>\n",
       "      <td>0.000000</td>\n",
       "      <td>...</td>\n",
       "      <td>0.000000</td>\n",
       "      <td>40.000000</td>\n",
       "      <td>0.000000</td>\n",
       "      <td>20.000000</td>\n",
       "      <td>0.000000</td>\n",
       "      <td>2.000000</td>\n",
       "      <td>1.000000</td>\n",
       "      <td>340.000000</td>\n",
       "      <td>6.000000</td>\n",
       "      <td>2.000000</td>\n",
       "    </tr>\n",
       "    <tr>\n",
       "      <th>50%</th>\n",
       "      <td>4.091309e+16</td>\n",
       "      <td>4.091309e+18</td>\n",
       "      <td>4.000000</td>\n",
       "      <td>5.000000</td>\n",
       "      <td>3.000000</td>\n",
       "      <td>3.000000</td>\n",
       "      <td>2.0</td>\n",
       "      <td>16.000000</td>\n",
       "      <td>2.000000</td>\n",
       "      <td>0.000000</td>\n",
       "      <td>...</td>\n",
       "      <td>0.000000</td>\n",
       "      <td>75.000000</td>\n",
       "      <td>0.000000</td>\n",
       "      <td>30.000000</td>\n",
       "      <td>0.000000</td>\n",
       "      <td>2.000000</td>\n",
       "      <td>2.000000</td>\n",
       "      <td>800.000000</td>\n",
       "      <td>8.000000</td>\n",
       "      <td>2.000000</td>\n",
       "    </tr>\n",
       "    <tr>\n",
       "      <th>75%</th>\n",
       "      <td>7.090209e+16</td>\n",
       "      <td>7.090209e+18</td>\n",
       "      <td>7.000000</td>\n",
       "      <td>10.000000</td>\n",
       "      <td>6.000000</td>\n",
       "      <td>3.000000</td>\n",
       "      <td>2.0</td>\n",
       "      <td>35.000000</td>\n",
       "      <td>2.000000</td>\n",
       "      <td>15.000000</td>\n",
       "      <td>...</td>\n",
       "      <td>0.000000</td>\n",
       "      <td>130.000000</td>\n",
       "      <td>0.000000</td>\n",
       "      <td>40.000000</td>\n",
       "      <td>0.000000</td>\n",
       "      <td>2.000000</td>\n",
       "      <td>2.000000</td>\n",
       "      <td>2200.000000</td>\n",
       "      <td>9.000000</td>\n",
       "      <td>2.000000</td>\n",
       "    </tr>\n",
       "    <tr>\n",
       "      <th>max</th>\n",
       "      <td>1.501021e+17</td>\n",
       "      <td>1.501021e+19</td>\n",
       "      <td>15.000000</td>\n",
       "      <td>21.000000</td>\n",
       "      <td>98.000000</td>\n",
       "      <td>15.000000</td>\n",
       "      <td>2.0</td>\n",
       "      <td>97.000000</td>\n",
       "      <td>6.000000</td>\n",
       "      <td>86.000000</td>\n",
       "      <td>...</td>\n",
       "      <td>45.000000</td>\n",
       "      <td>7000.000000</td>\n",
       "      <td>25.000000</td>\n",
       "      <td>400.000000</td>\n",
       "      <td>10.000000</td>\n",
       "      <td>8.000000</td>\n",
       "      <td>2.000000</td>\n",
       "      <td>48750.000000</td>\n",
       "      <td>30.000000</td>\n",
       "      <td>2.000000</td>\n",
       "    </tr>\n",
       "  </tbody>\n",
       "</table>\n",
       "<p>8 rows × 47 columns</p>\n",
       "</div>"
      ],
      "text/plain": [
       "       household_id2  individual_id2    region_code      zone_code  \\\n",
       "count   1.125750e+05    1.125750e+05  112575.000000  112575.000000   \n",
       "mean    5.324147e+16    5.324147e+18       5.255972       6.763953   \n",
       "std     3.526112e+16    3.526112e+18       3.533630       5.487928   \n",
       "min     1.010109e+16    1.010109e+18       1.000000       1.000000   \n",
       "25%     3.060409e+16    3.060409e+18       3.000000       2.000000   \n",
       "50%     4.091309e+16    4.091309e+18       4.000000       5.000000   \n",
       "75%     7.090209e+16    7.090209e+18       7.000000      10.000000   \n",
       "max     1.501021e+17    1.501021e+19      15.000000      21.000000   \n",
       "\n",
       "       Highest_Grade_Completed  hh_member_relationship  sex_of_hh_member  \\\n",
       "count             47651.000000           112575.000000          112575.0   \n",
       "mean                  4.521878                2.996767               2.0   \n",
       "std                   6.944759                1.724389               0.0   \n",
       "min                   0.000000                1.000000               2.0   \n",
       "25%                   1.000000                2.000000               2.0   \n",
       "50%                   3.000000                3.000000               2.0   \n",
       "75%                   6.000000                3.000000               2.0   \n",
       "max                  98.000000               15.000000               2.0   \n",
       "\n",
       "       age_of_hh_member  marital_status  hours_per_week_agg  \\\n",
       "count     112575.000000    80458.000000        91231.000000   \n",
       "mean          22.333795        1.950496            9.038233   \n",
       "std           18.052795        1.325504           14.228193   \n",
       "min            0.000000        1.000000            0.000000   \n",
       "25%            8.000000        1.000000            0.000000   \n",
       "50%           16.000000        2.000000            0.000000   \n",
       "75%           35.000000        2.000000           15.000000   \n",
       "max           97.000000        6.000000           86.000000   \n",
       "\n",
       "                    ...                 amt_days_men_hired  \\\n",
       "count               ...                      108340.000000   \n",
       "mean                ...                           0.760126   \n",
       "std                 ...                           2.080156   \n",
       "min                 ...                           0.000000   \n",
       "25%                 ...                           0.000000   \n",
       "50%                 ...                           0.000000   \n",
       "75%                 ...                           0.000000   \n",
       "max                 ...                          45.000000   \n",
       "\n",
       "       daily_wage_per_man  amt_days_women_hired  daily_wage_per_woman  \\\n",
       "count        25111.000000         108340.000000           3646.000000   \n",
       "mean           168.081558              0.092579             36.922655   \n",
       "std            404.229008              0.660971             29.724146   \n",
       "min              0.000000              0.000000              2.000000   \n",
       "25%             40.000000              0.000000             20.000000   \n",
       "50%             75.000000              0.000000             30.000000   \n",
       "75%            130.000000              0.000000             40.000000   \n",
       "max           7000.000000             25.000000            400.000000   \n",
       "\n",
       "       amt_days_children_hired  daily_wage_per_child  \\\n",
       "count            108340.000000            584.000000   \n",
       "mean                  0.011842              2.267123   \n",
       "std                   0.192672              1.187650   \n",
       "min                   0.000000              0.000000   \n",
       "25%                   0.000000              2.000000   \n",
       "50%                   0.000000              2.000000   \n",
       "75%                   0.000000              2.000000   \n",
       "max                  10.000000              8.000000   \n",
       "\n",
       "       Did_You_sell_harvest_crop  value_of_Crop_sales  household_size  \\\n",
       "count              112575.000000         34659.000000   112575.000000   \n",
       "mean                    1.692125          1939.106697        8.209043   \n",
       "std                     0.461616          2902.320315        3.948803   \n",
       "min                     1.000000             0.000000        1.000000   \n",
       "25%                     1.000000           340.000000        6.000000   \n",
       "50%                     2.000000           800.000000        8.000000   \n",
       "75%                     2.000000          2200.000000        9.000000   \n",
       "max                     2.000000         48750.000000       30.000000   \n",
       "\n",
       "       worry_enough_food_to_eat_weekly  \n",
       "count                    112575.000000  \n",
       "mean                          1.904588  \n",
       "std                           0.293784  \n",
       "min                           1.000000  \n",
       "25%                           2.000000  \n",
       "50%                           2.000000  \n",
       "75%                           2.000000  \n",
       "max                           2.000000  \n",
       "\n",
       "[8 rows x 47 columns]"
      ]
     },
     "execution_count": 4,
     "metadata": {},
     "output_type": "execute_result"
    }
   ],
   "source": [
    "df.describe()"
   ]
  },
  {
   "cell_type": "markdown",
   "metadata": {},
   "source": [
    "###### Null Values per Column"
   ]
  },
  {
   "cell_type": "code",
   "execution_count": 5,
   "metadata": {},
   "outputs": [
    {
     "data": {
      "text/html": [
       "<div>\n",
       "<style>\n",
       "    .dataframe thead tr:only-child th {\n",
       "        text-align: right;\n",
       "    }\n",
       "\n",
       "    .dataframe thead th {\n",
       "        text-align: left;\n",
       "    }\n",
       "\n",
       "    .dataframe tbody tr th {\n",
       "        vertical-align: top;\n",
       "    }\n",
       "</style>\n",
       "<table border=\"1\" class=\"dataframe\">\n",
       "  <thead>\n",
       "    <tr style=\"text-align: right;\">\n",
       "      <th></th>\n",
       "      <th>household_id2</th>\n",
       "      <th>individual_id2</th>\n",
       "      <th>region_code</th>\n",
       "      <th>zone_code</th>\n",
       "      <th>Highest_Grade_Completed</th>\n",
       "      <th>hh_member_relationship</th>\n",
       "      <th>sex_of_hh_member</th>\n",
       "      <th>age_of_hh_member</th>\n",
       "      <th>marital_status</th>\n",
       "      <th>hours_per_week_agg</th>\n",
       "      <th>...</th>\n",
       "      <th>amt_days_men_hired</th>\n",
       "      <th>daily_wage_per_man</th>\n",
       "      <th>amt_days_women_hired</th>\n",
       "      <th>daily_wage_per_woman</th>\n",
       "      <th>amt_days_children_hired</th>\n",
       "      <th>daily_wage_per_child</th>\n",
       "      <th>Did_You_sell_harvest_crop</th>\n",
       "      <th>value_of_Crop_sales</th>\n",
       "      <th>household_size</th>\n",
       "      <th>worry_enough_food_to_eat_weekly</th>\n",
       "    </tr>\n",
       "  </thead>\n",
       "  <tbody>\n",
       "    <tr>\n",
       "      <th>count</th>\n",
       "      <td>112575</td>\n",
       "      <td>112575</td>\n",
       "      <td>112575</td>\n",
       "      <td>112575</td>\n",
       "      <td>112575</td>\n",
       "      <td>112575</td>\n",
       "      <td>112575</td>\n",
       "      <td>112575</td>\n",
       "      <td>112575</td>\n",
       "      <td>112575</td>\n",
       "      <td>...</td>\n",
       "      <td>112575</td>\n",
       "      <td>112575</td>\n",
       "      <td>112575</td>\n",
       "      <td>112575</td>\n",
       "      <td>112575</td>\n",
       "      <td>112575</td>\n",
       "      <td>112575</td>\n",
       "      <td>112575</td>\n",
       "      <td>112575</td>\n",
       "      <td>112575</td>\n",
       "    </tr>\n",
       "    <tr>\n",
       "      <th>unique</th>\n",
       "      <td>1</td>\n",
       "      <td>1</td>\n",
       "      <td>1</td>\n",
       "      <td>1</td>\n",
       "      <td>2</td>\n",
       "      <td>1</td>\n",
       "      <td>1</td>\n",
       "      <td>1</td>\n",
       "      <td>2</td>\n",
       "      <td>2</td>\n",
       "      <td>...</td>\n",
       "      <td>2</td>\n",
       "      <td>2</td>\n",
       "      <td>2</td>\n",
       "      <td>2</td>\n",
       "      <td>2</td>\n",
       "      <td>2</td>\n",
       "      <td>1</td>\n",
       "      <td>2</td>\n",
       "      <td>1</td>\n",
       "      <td>1</td>\n",
       "    </tr>\n",
       "    <tr>\n",
       "      <th>top</th>\n",
       "      <td>False</td>\n",
       "      <td>False</td>\n",
       "      <td>False</td>\n",
       "      <td>False</td>\n",
       "      <td>True</td>\n",
       "      <td>False</td>\n",
       "      <td>False</td>\n",
       "      <td>False</td>\n",
       "      <td>False</td>\n",
       "      <td>False</td>\n",
       "      <td>...</td>\n",
       "      <td>False</td>\n",
       "      <td>True</td>\n",
       "      <td>False</td>\n",
       "      <td>True</td>\n",
       "      <td>False</td>\n",
       "      <td>True</td>\n",
       "      <td>False</td>\n",
       "      <td>True</td>\n",
       "      <td>False</td>\n",
       "      <td>False</td>\n",
       "    </tr>\n",
       "    <tr>\n",
       "      <th>freq</th>\n",
       "      <td>112575</td>\n",
       "      <td>112575</td>\n",
       "      <td>112575</td>\n",
       "      <td>112575</td>\n",
       "      <td>64924</td>\n",
       "      <td>112575</td>\n",
       "      <td>112575</td>\n",
       "      <td>112575</td>\n",
       "      <td>80458</td>\n",
       "      <td>91231</td>\n",
       "      <td>...</td>\n",
       "      <td>108340</td>\n",
       "      <td>87464</td>\n",
       "      <td>108340</td>\n",
       "      <td>108929</td>\n",
       "      <td>108340</td>\n",
       "      <td>111991</td>\n",
       "      <td>112575</td>\n",
       "      <td>77916</td>\n",
       "      <td>112575</td>\n",
       "      <td>112575</td>\n",
       "    </tr>\n",
       "  </tbody>\n",
       "</table>\n",
       "<p>4 rows × 48 columns</p>\n",
       "</div>"
      ],
      "text/plain": [
       "       household_id2 individual_id2 region_code zone_code  \\\n",
       "count         112575         112575      112575    112575   \n",
       "unique             1              1           1         1   \n",
       "top            False          False       False     False   \n",
       "freq          112575         112575      112575    112575   \n",
       "\n",
       "       Highest_Grade_Completed hh_member_relationship sex_of_hh_member  \\\n",
       "count                   112575                 112575           112575   \n",
       "unique                       2                      1                1   \n",
       "top                       True                  False            False   \n",
       "freq                     64924                 112575           112575   \n",
       "\n",
       "       age_of_hh_member marital_status hours_per_week_agg  \\\n",
       "count            112575         112575             112575   \n",
       "unique                1              2                  2   \n",
       "top               False          False              False   \n",
       "freq             112575          80458              91231   \n",
       "\n",
       "                     ...               amt_days_men_hired daily_wage_per_man  \\\n",
       "count                ...                           112575             112575   \n",
       "unique               ...                                2                  2   \n",
       "top                  ...                            False               True   \n",
       "freq                 ...                           108340              87464   \n",
       "\n",
       "       amt_days_women_hired daily_wage_per_woman amt_days_children_hired  \\\n",
       "count                112575               112575                  112575   \n",
       "unique                    2                    2                       2   \n",
       "top                   False                 True                   False   \n",
       "freq                 108340               108929                  108340   \n",
       "\n",
       "       daily_wage_per_child Did_You_sell_harvest_crop value_of_Crop_sales  \\\n",
       "count                112575                    112575              112575   \n",
       "unique                    2                         1                   2   \n",
       "top                    True                     False                True   \n",
       "freq                 111991                    112575               77916   \n",
       "\n",
       "       household_size worry_enough_food_to_eat_weekly  \n",
       "count          112575                          112575  \n",
       "unique              1                               1  \n",
       "top             False                           False  \n",
       "freq           112575                          112575  \n",
       "\n",
       "[4 rows x 48 columns]"
      ]
     },
     "execution_count": 5,
     "metadata": {},
     "output_type": "execute_result"
    }
   ],
   "source": [
    "df.isnull().describe()"
   ]
  },
  {
   "cell_type": "markdown",
   "metadata": {},
   "source": [
    "###### Let me know if you think any of these should be included anyways"
   ]
  },
  {
   "cell_type": "code",
   "execution_count": 6,
   "metadata": {},
   "outputs": [
    {
     "data": {
      "text/plain": [
       "(112575, 33)"
      ]
     },
     "execution_count": 6,
     "metadata": {},
     "output_type": "execute_result"
    }
   ],
   "source": [
    "remove_cols = [\"bank_account\",\"Use_Manure_Fertilizer \",\n",
    "               \"Amount_of_field_planted\",\"reason_no_chemicals_used \",\n",
    "               \"daily_wage_per_man\",\"daily_wage_per_woman\",\n",
    "               \"daily_wage_per_child \", \"amt_days_men_hired\", \n",
    "               \"amt_days_women_hired\", \"amt_days_children_hired\",\n",
    "               \"daily_wage_per_child\", \n",
    "               \"reason_no_chemicals_used\", \"Use_Fertilizer\", \n",
    "               \"Use_Manure_Fertilizer\", \"crop_code\", \"who_takes_care_of_Crops\", \n",
    "               \"who_decides_on_use_of_income\", \"who_buys_agg_supplies\"\n",
    "              ]\n",
    "\n",
    "newdf = df.drop(remove_cols, axis=1, errors = \"ignore\")\n",
    "newdf.shape"
   ]
  },
  {
   "cell_type": "markdown",
   "metadata": {},
   "source": [
    "###### Drop na values\n",
    "\n",
    "Farzana mentioned using a threshold which I had no idea was a thing but apparently it is"
   ]
  },
  {
   "cell_type": "code",
   "execution_count": 7,
   "metadata": {},
   "outputs": [
    {
     "data": {
      "text/plain": [
       "(112575, 33)"
      ]
     },
     "execution_count": 7,
     "metadata": {},
     "output_type": "execute_result"
    }
   ],
   "source": [
    "newdf = newdf.dropna(axis=0,how=\"any\", thresh=16)\n",
    "newdf.shape"
   ]
  },
  {
   "cell_type": "markdown",
   "metadata": {},
   "source": [
    "I set the threshold for roughly half of the variables. If more than half the row is NA values it will delete the whole row."
   ]
  },
  {
   "cell_type": "markdown",
   "metadata": {},
   "source": [
    "###### Hours Aggregate\n",
    "\n",
    "The way this is now is if an instance/row contains hours_per_week_agg, hours_per_week_other_jobs, and hours_per_week_collect_water it would sum all three and add a column to the dataframe to represent this. The other three columns remain there. I don't know if you guys want to approach this another way. Let me know."
   ]
  },
  {
   "cell_type": "code",
   "execution_count": 8,
   "metadata": {},
   "outputs": [
    {
     "name": "stdout",
     "output_type": "stream",
     "text": [
      "<class 'pandas.core.frame.DataFrame'>\n",
      "Int64Index: 112575 entries, 0 to 112574\n",
      "Data columns (total 34 columns):\n",
      "household_id2                      112575 non-null int64\n",
      "individual_id2                     112575 non-null float64\n",
      "region_code                        112575 non-null int64\n",
      "zone_code                          112575 non-null int64\n",
      "Highest_Grade_Completed            47651 non-null float64\n",
      "hh_member_relationship             112575 non-null int64\n",
      "sex_of_hh_member                   112575 non-null int64\n",
      "age_of_hh_member                   112575 non-null int64\n",
      "marital_status                     80458 non-null float64\n",
      "hours_per_week_agg                 91231 non-null float64\n",
      "hours_per_week_other_jobs          91231 non-null float64\n",
      "hours_per_week_collect_water       91231 non-null float64\n",
      "pw_w3                              112575 non-null float64\n",
      "field_id                           112575 non-null int64\n",
      "Num_of_Hired_Men                   84482 non-null float64\n",
      "Num_of_Hired_Women                 84486 non-null float64\n",
      "crop_name                          112575 non-null object\n",
      "Type_of_Planting                   112575 non-null int64\n",
      "chemical_fertilizers_used          112575 non-null int64\n",
      "extension_program                  112575 non-null int64\n",
      "Credit_Services                    112575 non-null int64\n",
      "advisory_Services                  112575 non-null int64\n",
      "Crop_Rotation                      112575 non-null int64\n",
      "who_in_charge_of_crops             112575 non-null int64\n",
      "who_decides_crops_2_sell           112575 non-null int64\n",
      "who_decides_on_use_of_crops        112575 non-null int64\n",
      "did_you_harvest_crop_from_field    112575 non-null int64\n",
      "amt_of_crop_harvest                108687 non-null float64\n",
      "amt_of_crop_harvest_units          108687 non-null float64\n",
      "Did_You_sell_harvest_crop          112575 non-null int64\n",
      "value_of_Crop_sales                34659 non-null float64\n",
      "household_size                     112575 non-null int64\n",
      "worry_enough_food_to_eat_weekly    112575 non-null int64\n",
      "total_hours                        91231 non-null float64\n",
      "dtypes: float64(13), int64(20), object(1)\n",
      "memory usage: 30.1+ MB\n"
     ]
    }
   ],
   "source": [
    "newdf = newdf.assign(total_hours = lambda x: sum([df[\"hours_per_week_agg\"], df[\"hours_per_week_collect_water\"],df[\"hours_per_week_other_jobs\"]]))\n",
    "newdf.info()"
   ]
  },
  {
   "cell_type": "code",
   "execution_count": 9,
   "metadata": {
    "collapsed": true
   },
   "outputs": [],
   "source": [
    "newdf = newdf[np.isfinite(newdf[\"total_hours\"])]"
   ]
  },
  {
   "cell_type": "code",
   "execution_count": 10,
   "metadata": {},
   "outputs": [
    {
     "data": {
      "text/plain": [
       "(91231, 34)"
      ]
     },
     "execution_count": 10,
     "metadata": {},
     "output_type": "execute_result"
    }
   ],
   "source": [
    "newdf.shape"
   ]
  },
  {
   "cell_type": "code",
   "execution_count": 11,
   "metadata": {},
   "outputs": [
    {
     "data": {
      "text/plain": [
       "0    0.0\n",
       "1    0.0\n",
       "2    0.0\n",
       "3    0.0\n",
       "4    0.0\n",
       "Name: total_hours, dtype: float64"
      ]
     },
     "execution_count": 11,
     "metadata": {},
     "output_type": "execute_result"
    }
   ],
   "source": [
    "newdf[\"total_hours\"].head()"
   ]
  },
  {
   "cell_type": "markdown",
   "metadata": {},
   "source": [
    "###### Remaining variables with NA values\n",
    "\n",
    "1. Removing \"Num_of_Hired_Men\", \"Num_of_Hired_Women\", \"value_of_Crop_sales\", \"reason_no_chemicals_used\", \"Use_Fertilizer\", \"Use_Manure_Fertilizer\" because they contain too many null values\n",
    "2. Imputing Highest_Grade_Completed, marital_status, amt_of_crop_harvest, amt_of_crop_harvest_units\n"
   ]
  },
  {
   "cell_type": "code",
   "execution_count": 12,
   "metadata": {},
   "outputs": [
    {
     "name": "stdout",
     "output_type": "stream",
     "text": [
      "<class 'pandas.core.frame.DataFrame'>\n",
      "Int64Index: 91231 entries, 0 to 112574\n",
      "Data columns (total 34 columns):\n",
      "household_id2                      91231 non-null int64\n",
      "individual_id2                     91231 non-null float64\n",
      "region_code                        91231 non-null int64\n",
      "zone_code                          91231 non-null int64\n",
      "Highest_Grade_Completed            91231 non-null float64\n",
      "hh_member_relationship             91231 non-null int64\n",
      "sex_of_hh_member                   91231 non-null int64\n",
      "age_of_hh_member                   91231 non-null int64\n",
      "marital_status                     91231 non-null float64\n",
      "hours_per_week_agg                 91231 non-null float64\n",
      "hours_per_week_other_jobs          91231 non-null float64\n",
      "hours_per_week_collect_water       91231 non-null float64\n",
      "pw_w3                              91231 non-null float64\n",
      "field_id                           91231 non-null int64\n",
      "Num_of_Hired_Men                   68592 non-null float64\n",
      "Num_of_Hired_Women                 68595 non-null float64\n",
      "crop_name                          91231 non-null object\n",
      "Type_of_Planting                   91231 non-null int64\n",
      "chemical_fertilizers_used          91231 non-null int64\n",
      "extension_program                  91231 non-null int64\n",
      "Credit_Services                    91231 non-null int64\n",
      "advisory_Services                  91231 non-null int64\n",
      "Crop_Rotation                      91231 non-null int64\n",
      "who_in_charge_of_crops             91231 non-null int64\n",
      "who_decides_crops_2_sell           91231 non-null int64\n",
      "who_decides_on_use_of_crops        91231 non-null int64\n",
      "did_you_harvest_crop_from_field    91231 non-null int64\n",
      "amt_of_crop_harvest                91231 non-null float64\n",
      "amt_of_crop_harvest_units          91231 non-null float64\n",
      "Did_You_sell_harvest_crop          91231 non-null int64\n",
      "value_of_Crop_sales                28409 non-null float64\n",
      "household_size                     91231 non-null int64\n",
      "worry_enough_food_to_eat_weekly    91231 non-null int64\n",
      "total_hours                        91231 non-null float64\n",
      "dtypes: float64(13), int64(20), object(1)\n",
      "memory usage: 24.4+ MB\n"
     ]
    }
   ],
   "source": [
    "impute_list=[\"amt_of_crop_harvest\", \"amt_of_crop_harvest_units\",\"Highest_Grade_Completed\", \"marital_status\" ]\n",
    "for i in impute_list:\n",
    "    newdf[i] = newdf[i].fillna(np.mean(newdf[i]))\n",
    "    \n",
    "newdf.info()"
   ]
  },
  {
   "cell_type": "markdown",
   "metadata": {},
   "source": [
    "###### More Wrangling"
   ]
  },
  {
   "cell_type": "markdown",
   "metadata": {},
   "source": [
    "###### Creating Dummy Variables for the Crop Names"
   ]
  },
  {
   "cell_type": "code",
   "execution_count": 13,
   "metadata": {},
   "outputs": [
    {
     "data": {
      "text/html": [
       "<div>\n",
       "<style>\n",
       "    .dataframe thead tr:only-child th {\n",
       "        text-align: right;\n",
       "    }\n",
       "\n",
       "    .dataframe thead th {\n",
       "        text-align: left;\n",
       "    }\n",
       "\n",
       "    .dataframe tbody tr th {\n",
       "        vertical-align: top;\n",
       "    }\n",
       "</style>\n",
       "<table border=\"1\" class=\"dataframe\">\n",
       "  <thead>\n",
       "    <tr style=\"text-align: right;\">\n",
       "      <th></th>\n",
       "      <th>crop_name_cat</th>\n",
       "    </tr>\n",
       "  </thead>\n",
       "  <tbody>\n",
       "    <tr>\n",
       "      <th>0</th>\n",
       "      <td>MAIZE</td>\n",
       "    </tr>\n",
       "    <tr>\n",
       "      <th>1</th>\n",
       "      <td>SORGHUM</td>\n",
       "    </tr>\n",
       "    <tr>\n",
       "      <th>2</th>\n",
       "      <td>SESAME</td>\n",
       "    </tr>\n",
       "    <tr>\n",
       "      <th>3</th>\n",
       "      <td>SORGHUM</td>\n",
       "    </tr>\n",
       "    <tr>\n",
       "      <th>4</th>\n",
       "      <td>SESAME</td>\n",
       "    </tr>\n",
       "  </tbody>\n",
       "</table>\n",
       "</div>"
      ],
      "text/plain": [
       "  crop_name_cat\n",
       "0         MAIZE\n",
       "1       SORGHUM\n",
       "2        SESAME\n",
       "3       SORGHUM\n",
       "4        SESAME"
      ]
     },
     "execution_count": 13,
     "metadata": {},
     "output_type": "execute_result"
    }
   ],
   "source": [
    "crop_name=newdf[\"crop_name\"]\n",
    "crop_name = crop_name.astype(\"category\",copy=False)\n",
    "crop_name_cat = pd.DataFrame(crop_name)\n",
    "crop_name_cat.columns= [\"crop_name_cat\"]\n",
    "crop_name_cat.head()"
   ]
  },
  {
   "cell_type": "code",
   "execution_count": 14,
   "metadata": {},
   "outputs": [
    {
     "data": {
      "text/html": [
       "<div>\n",
       "<style>\n",
       "    .dataframe thead tr:only-child th {\n",
       "        text-align: right;\n",
       "    }\n",
       "\n",
       "    .dataframe thead th {\n",
       "        text-align: left;\n",
       "    }\n",
       "\n",
       "    .dataframe tbody tr th {\n",
       "        vertical-align: top;\n",
       "    }\n",
       "</style>\n",
       "<table border=\"1\" class=\"dataframe\">\n",
       "  <thead>\n",
       "    <tr style=\"text-align: right;\">\n",
       "      <th></th>\n",
       "      <th>BANANAS</th>\n",
       "      <th>BARLEY</th>\n",
       "      <th>BLACK CUMIN</th>\n",
       "      <th>CABBAGE</th>\n",
       "      <th>CASSAVA</th>\n",
       "      <th>CHAT</th>\n",
       "      <th>CHICK PEAS</th>\n",
       "      <th>COFFEE</th>\n",
       "      <th>CORIANDER</th>\n",
       "      <th>COTTON</th>\n",
       "      <th>...</th>\n",
       "      <th>SOYA BEANS</th>\n",
       "      <th>SUGAR CANE</th>\n",
       "      <th>SUNFLOWER</th>\n",
       "      <th>SWEET POTATO</th>\n",
       "      <th>TEFF</th>\n",
       "      <th>TOBACCO</th>\n",
       "      <th>TOMATOES</th>\n",
       "      <th>VETCH</th>\n",
       "      <th>WHEAT</th>\n",
       "      <th>WHITE LUMIN</th>\n",
       "    </tr>\n",
       "  </thead>\n",
       "  <tbody>\n",
       "    <tr>\n",
       "      <th>0</th>\n",
       "      <td>0</td>\n",
       "      <td>0</td>\n",
       "      <td>0</td>\n",
       "      <td>0</td>\n",
       "      <td>0</td>\n",
       "      <td>0</td>\n",
       "      <td>0</td>\n",
       "      <td>0</td>\n",
       "      <td>0</td>\n",
       "      <td>0</td>\n",
       "      <td>...</td>\n",
       "      <td>0</td>\n",
       "      <td>0</td>\n",
       "      <td>0</td>\n",
       "      <td>0</td>\n",
       "      <td>0</td>\n",
       "      <td>0</td>\n",
       "      <td>0</td>\n",
       "      <td>0</td>\n",
       "      <td>0</td>\n",
       "      <td>0</td>\n",
       "    </tr>\n",
       "    <tr>\n",
       "      <th>1</th>\n",
       "      <td>0</td>\n",
       "      <td>0</td>\n",
       "      <td>0</td>\n",
       "      <td>0</td>\n",
       "      <td>0</td>\n",
       "      <td>0</td>\n",
       "      <td>0</td>\n",
       "      <td>0</td>\n",
       "      <td>0</td>\n",
       "      <td>0</td>\n",
       "      <td>...</td>\n",
       "      <td>0</td>\n",
       "      <td>0</td>\n",
       "      <td>0</td>\n",
       "      <td>0</td>\n",
       "      <td>0</td>\n",
       "      <td>0</td>\n",
       "      <td>0</td>\n",
       "      <td>0</td>\n",
       "      <td>0</td>\n",
       "      <td>0</td>\n",
       "    </tr>\n",
       "    <tr>\n",
       "      <th>2</th>\n",
       "      <td>0</td>\n",
       "      <td>0</td>\n",
       "      <td>0</td>\n",
       "      <td>0</td>\n",
       "      <td>0</td>\n",
       "      <td>0</td>\n",
       "      <td>0</td>\n",
       "      <td>0</td>\n",
       "      <td>0</td>\n",
       "      <td>0</td>\n",
       "      <td>...</td>\n",
       "      <td>0</td>\n",
       "      <td>0</td>\n",
       "      <td>0</td>\n",
       "      <td>0</td>\n",
       "      <td>0</td>\n",
       "      <td>0</td>\n",
       "      <td>0</td>\n",
       "      <td>0</td>\n",
       "      <td>0</td>\n",
       "      <td>0</td>\n",
       "    </tr>\n",
       "    <tr>\n",
       "      <th>3</th>\n",
       "      <td>0</td>\n",
       "      <td>0</td>\n",
       "      <td>0</td>\n",
       "      <td>0</td>\n",
       "      <td>0</td>\n",
       "      <td>0</td>\n",
       "      <td>0</td>\n",
       "      <td>0</td>\n",
       "      <td>0</td>\n",
       "      <td>0</td>\n",
       "      <td>...</td>\n",
       "      <td>0</td>\n",
       "      <td>0</td>\n",
       "      <td>0</td>\n",
       "      <td>0</td>\n",
       "      <td>0</td>\n",
       "      <td>0</td>\n",
       "      <td>0</td>\n",
       "      <td>0</td>\n",
       "      <td>0</td>\n",
       "      <td>0</td>\n",
       "    </tr>\n",
       "    <tr>\n",
       "      <th>4</th>\n",
       "      <td>0</td>\n",
       "      <td>0</td>\n",
       "      <td>0</td>\n",
       "      <td>0</td>\n",
       "      <td>0</td>\n",
       "      <td>0</td>\n",
       "      <td>0</td>\n",
       "      <td>0</td>\n",
       "      <td>0</td>\n",
       "      <td>0</td>\n",
       "      <td>...</td>\n",
       "      <td>0</td>\n",
       "      <td>0</td>\n",
       "      <td>0</td>\n",
       "      <td>0</td>\n",
       "      <td>0</td>\n",
       "      <td>0</td>\n",
       "      <td>0</td>\n",
       "      <td>0</td>\n",
       "      <td>0</td>\n",
       "      <td>0</td>\n",
       "    </tr>\n",
       "  </tbody>\n",
       "</table>\n",
       "<p>5 rows × 58 columns</p>\n",
       "</div>"
      ],
      "text/plain": [
       "   BANANAS  BARLEY  BLACK CUMIN  CABBAGE  CASSAVA  CHAT  CHICK PEAS  COFFEE  \\\n",
       "0        0       0            0        0        0     0           0       0   \n",
       "1        0       0            0        0        0     0           0       0   \n",
       "2        0       0            0        0        0     0           0       0   \n",
       "3        0       0            0        0        0     0           0       0   \n",
       "4        0       0            0        0        0     0           0       0   \n",
       "\n",
       "   CORIANDER  COTTON     ...       SOYA BEANS  SUGAR CANE  SUNFLOWER  \\\n",
       "0          0       0     ...                0           0          0   \n",
       "1          0       0     ...                0           0          0   \n",
       "2          0       0     ...                0           0          0   \n",
       "3          0       0     ...                0           0          0   \n",
       "4          0       0     ...                0           0          0   \n",
       "\n",
       "   SWEET POTATO  TEFF  TOBACCO  TOMATOES  VETCH  WHEAT  WHITE LUMIN  \n",
       "0             0     0        0         0      0      0            0  \n",
       "1             0     0        0         0      0      0            0  \n",
       "2             0     0        0         0      0      0            0  \n",
       "3             0     0        0         0      0      0            0  \n",
       "4             0     0        0         0      0      0            0  \n",
       "\n",
       "[5 rows x 58 columns]"
      ]
     },
     "execution_count": 14,
     "metadata": {},
     "output_type": "execute_result"
    }
   ],
   "source": [
    "df_crop_names = pd.get_dummies(crop_name)\n",
    "\n",
    "df_crop_names.head()"
   ]
  },
  {
   "cell_type": "markdown",
   "metadata": {},
   "source": [
    "###### Creating Dummy Variables & Hour Bins"
   ]
  },
  {
   "cell_type": "code",
   "execution_count": 15,
   "metadata": {},
   "outputs": [
    {
     "data": {
      "text/plain": [
       "Text(0,0.5,'Responses logged')"
      ]
     },
     "execution_count": 15,
     "metadata": {},
     "output_type": "execute_result"
    },
    {
     "data": {
      "image/png": "[encoded data removed]",
      "text/plain": [
       "<matplotlib.figure.Figure at 0x10caf49b0>"
      ]
     },
     "metadata": {},
     "output_type": "display_data"
    }
   ],
   "source": [
    "ax = newdf[\"total_hours\"].hist()\n",
    "ax.set_xlim((0,110))\n",
    "ax.set_xlabel(\"Total Hours per Week\")\n",
    "ax.set_ylabel(\"Responses logged\")"
   ]
  },
  {
   "cell_type": "code",
   "execution_count": 16,
   "metadata": {},
   "outputs": [
    {
     "data": {
      "text/html": [
       "<div>\n",
       "<style>\n",
       "    .dataframe thead tr:only-child th {\n",
       "        text-align: right;\n",
       "    }\n",
       "\n",
       "    .dataframe thead th {\n",
       "        text-align: left;\n",
       "    }\n",
       "\n",
       "    .dataframe tbody tr th {\n",
       "        vertical-align: top;\n",
       "    }\n",
       "</style>\n",
       "<table border=\"1\" class=\"dataframe\">\n",
       "  <thead>\n",
       "    <tr style=\"text-align: right;\">\n",
       "      <th></th>\n",
       "      <th>total_hours</th>\n",
       "    </tr>\n",
       "  </thead>\n",
       "  <tbody>\n",
       "    <tr>\n",
       "      <th>0</th>\n",
       "      <td>0.0</td>\n",
       "    </tr>\n",
       "    <tr>\n",
       "      <th>1</th>\n",
       "      <td>0.0</td>\n",
       "    </tr>\n",
       "    <tr>\n",
       "      <th>2</th>\n",
       "      <td>0.0</td>\n",
       "    </tr>\n",
       "    <tr>\n",
       "      <th>3</th>\n",
       "      <td>0.0</td>\n",
       "    </tr>\n",
       "    <tr>\n",
       "      <th>4</th>\n",
       "      <td>0.0</td>\n",
       "    </tr>\n",
       "  </tbody>\n",
       "</table>\n",
       "</div>"
      ],
      "text/plain": [
       "   total_hours\n",
       "0          0.0\n",
       "1          0.0\n",
       "2          0.0\n",
       "3          0.0\n",
       "4          0.0"
      ]
     },
     "execution_count": 16,
     "metadata": {},
     "output_type": "execute_result"
    }
   ],
   "source": [
    "pd.DataFrame(newdf[\"total_hours\"], columns=[\"total_hours\"]).head()"
   ]
  },
  {
   "cell_type": "code",
   "execution_count": 17,
   "metadata": {
    "collapsed": true
   },
   "outputs": [],
   "source": [
    "x=newdf[\"total_hours\"]\n",
    "x=x.astype(\"category\", copy=False)\n",
    "hour_bins=[-1,1,10,40,60,140]\n",
    "bin_names=[\"0 Hours\",\"1-10 Hours\",\"10-40\", \"40-60\",\n",
    "           \"60+ Hours\" \n",
    "]\n",
    "\n",
    "x=pd.cut(x,hour_bins, labels=bin_names)"
   ]
  },
  {
   "cell_type": "code",
   "execution_count": null,
   "metadata": {
    "collapsed": true
   },
   "outputs": [],
   "source": []
  },
  {
   "cell_type": "markdown",
   "metadata": {},
   "source": [
    "###### Categorical Column"
   ]
  },
  {
   "cell_type": "code",
   "execution_count": 18,
   "metadata": {},
   "outputs": [
    {
     "data": {
      "text/html": [
       "<div>\n",
       "<style>\n",
       "    .dataframe thead tr:only-child th {\n",
       "        text-align: right;\n",
       "    }\n",
       "\n",
       "    .dataframe thead th {\n",
       "        text-align: left;\n",
       "    }\n",
       "\n",
       "    .dataframe tbody tr th {\n",
       "        vertical-align: top;\n",
       "    }\n",
       "</style>\n",
       "<table border=\"1\" class=\"dataframe\">\n",
       "  <thead>\n",
       "    <tr style=\"text-align: right;\">\n",
       "      <th></th>\n",
       "      <th>total_hours_cat</th>\n",
       "    </tr>\n",
       "  </thead>\n",
       "  <tbody>\n",
       "    <tr>\n",
       "      <th>0</th>\n",
       "      <td>0 Hours</td>\n",
       "    </tr>\n",
       "    <tr>\n",
       "      <th>1</th>\n",
       "      <td>0 Hours</td>\n",
       "    </tr>\n",
       "    <tr>\n",
       "      <th>2</th>\n",
       "      <td>0 Hours</td>\n",
       "    </tr>\n",
       "    <tr>\n",
       "      <th>3</th>\n",
       "      <td>0 Hours</td>\n",
       "    </tr>\n",
       "    <tr>\n",
       "      <th>4</th>\n",
       "      <td>0 Hours</td>\n",
       "    </tr>\n",
       "  </tbody>\n",
       "</table>\n",
       "</div>"
      ],
      "text/plain": [
       "  total_hours_cat\n",
       "0         0 Hours\n",
       "1         0 Hours\n",
       "2         0 Hours\n",
       "3         0 Hours\n",
       "4         0 Hours"
      ]
     },
     "execution_count": 18,
     "metadata": {},
     "output_type": "execute_result"
    }
   ],
   "source": [
    "df_total_hours_cat = pd.DataFrame(x)\n",
    "df_total_hours_cat.columns = [\"total_hours_cat\"]\n",
    "df_total_hours_cat.head()"
   ]
  },
  {
   "cell_type": "markdown",
   "metadata": {},
   "source": [
    "###### Dummy Matrix (if you want)"
   ]
  },
  {
   "cell_type": "code",
   "execution_count": 19,
   "metadata": {},
   "outputs": [
    {
     "data": {
      "text/plain": [
       "(91231, 5)"
      ]
     },
     "execution_count": 19,
     "metadata": {},
     "output_type": "execute_result"
    }
   ],
   "source": [
    "df_total_hours=pd.get_dummies(x)\n",
    "df_total_hours.shape"
   ]
  },
  {
   "cell_type": "code",
   "execution_count": 20,
   "metadata": {},
   "outputs": [
    {
     "data": {
      "text/html": [
       "<div>\n",
       "<style>\n",
       "    .dataframe thead tr:only-child th {\n",
       "        text-align: right;\n",
       "    }\n",
       "\n",
       "    .dataframe thead th {\n",
       "        text-align: left;\n",
       "    }\n",
       "\n",
       "    .dataframe tbody tr th {\n",
       "        vertical-align: top;\n",
       "    }\n",
       "</style>\n",
       "<table border=\"1\" class=\"dataframe\">\n",
       "  <thead>\n",
       "    <tr style=\"text-align: right;\">\n",
       "      <th></th>\n",
       "      <th>0 Hours</th>\n",
       "      <th>1-10 Hours</th>\n",
       "      <th>10-40</th>\n",
       "      <th>40-60</th>\n",
       "      <th>60+ Hours</th>\n",
       "    </tr>\n",
       "  </thead>\n",
       "  <tbody>\n",
       "    <tr>\n",
       "      <th>0</th>\n",
       "      <td>1</td>\n",
       "      <td>0</td>\n",
       "      <td>0</td>\n",
       "      <td>0</td>\n",
       "      <td>0</td>\n",
       "    </tr>\n",
       "    <tr>\n",
       "      <th>1</th>\n",
       "      <td>1</td>\n",
       "      <td>0</td>\n",
       "      <td>0</td>\n",
       "      <td>0</td>\n",
       "      <td>0</td>\n",
       "    </tr>\n",
       "    <tr>\n",
       "      <th>2</th>\n",
       "      <td>1</td>\n",
       "      <td>0</td>\n",
       "      <td>0</td>\n",
       "      <td>0</td>\n",
       "      <td>0</td>\n",
       "    </tr>\n",
       "    <tr>\n",
       "      <th>3</th>\n",
       "      <td>1</td>\n",
       "      <td>0</td>\n",
       "      <td>0</td>\n",
       "      <td>0</td>\n",
       "      <td>0</td>\n",
       "    </tr>\n",
       "    <tr>\n",
       "      <th>4</th>\n",
       "      <td>1</td>\n",
       "      <td>0</td>\n",
       "      <td>0</td>\n",
       "      <td>0</td>\n",
       "      <td>0</td>\n",
       "    </tr>\n",
       "  </tbody>\n",
       "</table>\n",
       "</div>"
      ],
      "text/plain": [
       "   0 Hours  1-10 Hours  10-40  40-60  60+ Hours\n",
       "0        1           0      0      0          0\n",
       "1        1           0      0      0          0\n",
       "2        1           0      0      0          0\n",
       "3        1           0      0      0          0\n",
       "4        1           0      0      0          0"
      ]
     },
     "execution_count": 20,
     "metadata": {},
     "output_type": "execute_result"
    }
   ],
   "source": [
    "df_total_hours.head()"
   ]
  },
  {
   "cell_type": "markdown",
   "metadata": {},
   "source": [
    "###### Hours Categorical Distribution"
   ]
  },
  {
   "cell_type": "code",
   "execution_count": 21,
   "metadata": {},
   "outputs": [
    {
     "data": {
      "text/plain": [
       "Text(0,0.5,'Responses logged')"
      ]
     },
     "execution_count": 21,
     "metadata": {},
     "output_type": "execute_result"
    },
    {
     "data": {
      "image/png": "[encoded data removed]",
      "text/plain": [
       "<matplotlib.figure.Figure at 0x10caf4978>"
      ]
     },
     "metadata": {},
     "output_type": "display_data"
    }
   ],
   "source": [
    "ax = x.hist(figsize=(10,10))\n",
    "ax.set_xlabel(\"Total Hours per Week\")\n",
    "ax.set_ylabel(\"Responses logged\")\n"
   ]
  },
  {
   "cell_type": "markdown",
   "metadata": {},
   "source": [
    "Not necessarily trying to normalize the data.\n",
    "Just attempting to create a reasonable amount of bins to classify into"
   ]
  },
  {
   "cell_type": "markdown",
   "metadata": {},
   "source": [
    "###### Creating Dummy Variables for the Region Codes"
   ]
  },
  {
   "cell_type": "markdown",
   "metadata": {},
   "source": [
    "###### Region Codes\n",
    "\n",
    "1 - Tigray\n",
    "\n",
    "2 - Afar\n",
    "\n",
    "3 - Amhara\n",
    "\n",
    "4 - Oromia\n",
    "\n",
    "5 - Somalie\n",
    "\n",
    "6 - Benshagul Gumuz\n",
    "\n",
    "7 - snnp\n",
    "\n",
    "12 - Cambelia\n",
    "\n",
    "13 - Harar\n",
    "\n",
    "14 - Addis Adaba\n",
    "\n",
    "15 - Diredwa\n",
    "\n",
    "North Regions - Tigray, Afar, Amhara, Benshagul Gumuz\n",
    "South Regions = Gambela, SNNP, Oromia, Harar Diredawa, Somali"
   ]
  },
  {
   "cell_type": "code",
   "execution_count": 22,
   "metadata": {},
   "outputs": [
    {
     "data": {
      "text/html": [
       "<div>\n",
       "<style>\n",
       "    .dataframe thead tr:only-child th {\n",
       "        text-align: right;\n",
       "    }\n",
       "\n",
       "    .dataframe thead th {\n",
       "        text-align: left;\n",
       "    }\n",
       "\n",
       "    .dataframe tbody tr th {\n",
       "        vertical-align: top;\n",
       "    }\n",
       "</style>\n",
       "<table border=\"1\" class=\"dataframe\">\n",
       "  <thead>\n",
       "    <tr style=\"text-align: right;\">\n",
       "      <th></th>\n",
       "      <th>region_code</th>\n",
       "    </tr>\n",
       "  </thead>\n",
       "  <tbody>\n",
       "    <tr>\n",
       "      <th>0</th>\n",
       "      <td>1</td>\n",
       "    </tr>\n",
       "    <tr>\n",
       "      <th>1</th>\n",
       "      <td>1</td>\n",
       "    </tr>\n",
       "    <tr>\n",
       "      <th>2</th>\n",
       "      <td>1</td>\n",
       "    </tr>\n",
       "    <tr>\n",
       "      <th>3</th>\n",
       "      <td>1</td>\n",
       "    </tr>\n",
       "    <tr>\n",
       "      <th>4</th>\n",
       "      <td>1</td>\n",
       "    </tr>\n",
       "  </tbody>\n",
       "</table>\n",
       "</div>"
      ],
      "text/plain": [
       "   region_code\n",
       "0            1\n",
       "1            1\n",
       "2            1\n",
       "3            1\n",
       "4            1"
      ]
     },
     "execution_count": 22,
     "metadata": {},
     "output_type": "execute_result"
    }
   ],
   "source": [
    "pd.DataFrame(newdf[\"region_code\"],columns=[\"region_code\"]).head()"
   ]
  },
  {
   "cell_type": "code",
   "execution_count": 23,
   "metadata": {
    "collapsed": true
   },
   "outputs": [],
   "source": [
    "keys=[]\n",
    "for i in newdf[\"region_code\"].unique():\n",
    "    keys.append(i)\n",
    "    \n",
    "values=[\"north\", \"north\", \"north\", \"south\", \"south\", \"north\", \"south\",\n",
    "        \"south\", \"south\", \"south\"]\n",
    "region_dict = dict(zip(keys, values))"
   ]
  },
  {
   "cell_type": "code",
   "execution_count": 24,
   "metadata": {},
   "outputs": [
    {
     "data": {
      "text/html": [
       "<div>\n",
       "<style>\n",
       "    .dataframe thead tr:only-child th {\n",
       "        text-align: right;\n",
       "    }\n",
       "\n",
       "    .dataframe thead th {\n",
       "        text-align: left;\n",
       "    }\n",
       "\n",
       "    .dataframe tbody tr th {\n",
       "        vertical-align: top;\n",
       "    }\n",
       "</style>\n",
       "<table border=\"1\" class=\"dataframe\">\n",
       "  <thead>\n",
       "    <tr style=\"text-align: right;\">\n",
       "      <th></th>\n",
       "      <th>region_cat</th>\n",
       "    </tr>\n",
       "  </thead>\n",
       "  <tbody>\n",
       "    <tr>\n",
       "      <th>0</th>\n",
       "      <td>north</td>\n",
       "    </tr>\n",
       "    <tr>\n",
       "      <th>1</th>\n",
       "      <td>north</td>\n",
       "    </tr>\n",
       "    <tr>\n",
       "      <th>2</th>\n",
       "      <td>north</td>\n",
       "    </tr>\n",
       "    <tr>\n",
       "      <th>3</th>\n",
       "      <td>north</td>\n",
       "    </tr>\n",
       "    <tr>\n",
       "      <th>4</th>\n",
       "      <td>north</td>\n",
       "    </tr>\n",
       "  </tbody>\n",
       "</table>\n",
       "</div>"
      ],
      "text/plain": [
       "  region_cat\n",
       "0      north\n",
       "1      north\n",
       "2      north\n",
       "3      north\n",
       "4      north"
      ]
     },
     "execution_count": 24,
     "metadata": {},
     "output_type": "execute_result"
    }
   ],
   "source": [
    "def cat_cols(cols, catdict):\n",
    "    newlist=[]\n",
    "\n",
    "    for i in cols:\n",
    "        for j, vals in catdict.items():\n",
    "            if i == j:\n",
    "                newlist.append(vals)\n",
    "    newlist=pd.DataFrame(newlist)\n",
    "    return newlist\n",
    "\n",
    "region_cat = cat_cols(newdf[\"region_code\"], region_dict)\n",
    "region_cat.columns = [\"region_cat\"]\n",
    "region_cat.head()"
   ]
  },
  {
   "cell_type": "code",
   "execution_count": 25,
   "metadata": {},
   "outputs": [
    {
     "data": {
      "text/html": [
       "<div>\n",
       "<style>\n",
       "    .dataframe thead tr:only-child th {\n",
       "        text-align: right;\n",
       "    }\n",
       "\n",
       "    .dataframe thead th {\n",
       "        text-align: left;\n",
       "    }\n",
       "\n",
       "    .dataframe tbody tr th {\n",
       "        vertical-align: top;\n",
       "    }\n",
       "</style>\n",
       "<table border=\"1\" class=\"dataframe\">\n",
       "  <thead>\n",
       "    <tr style=\"text-align: right;\">\n",
       "      <th></th>\n",
       "      <th>North_Region</th>\n",
       "      <th>South_Region</th>\n",
       "    </tr>\n",
       "  </thead>\n",
       "  <tbody>\n",
       "    <tr>\n",
       "      <th>0</th>\n",
       "      <td>1</td>\n",
       "      <td>0</td>\n",
       "    </tr>\n",
       "    <tr>\n",
       "      <th>1</th>\n",
       "      <td>1</td>\n",
       "      <td>0</td>\n",
       "    </tr>\n",
       "    <tr>\n",
       "      <th>2</th>\n",
       "      <td>1</td>\n",
       "      <td>0</td>\n",
       "    </tr>\n",
       "    <tr>\n",
       "      <th>3</th>\n",
       "      <td>1</td>\n",
       "      <td>0</td>\n",
       "    </tr>\n",
       "    <tr>\n",
       "      <th>4</th>\n",
       "      <td>1</td>\n",
       "      <td>0</td>\n",
       "    </tr>\n",
       "  </tbody>\n",
       "</table>\n",
       "</div>"
      ],
      "text/plain": [
       "   North_Region  South_Region\n",
       "0             1             0\n",
       "1             1             0\n",
       "2             1             0\n",
       "3             1             0\n",
       "4             1             0"
      ]
     },
     "execution_count": 25,
     "metadata": {},
     "output_type": "execute_result"
    }
   ],
   "source": [
    "##Create a dummy variable matrix and store in df\n",
    "df_regions = pd.get_dummies(region_cat)\n",
    "df_regions.columns = [\"North_Region\", \"South_Region\"]\n",
    "df_regions.head()"
   ]
  },
  {
   "cell_type": "markdown",
   "metadata": {},
   "source": [
    "###### Creating Dummy Variables for Highest Grade Completed"
   ]
  },
  {
   "cell_type": "code",
   "execution_count": 26,
   "metadata": {},
   "outputs": [
    {
     "data": {
      "text/plain": [
       "<matplotlib.axes._subplots.AxesSubplot at 0x1067e76a0>"
      ]
     },
     "execution_count": 26,
     "metadata": {},
     "output_type": "execute_result"
    },
    {
     "data": {
      "image/png": "[encoded data removed]",
      "text/plain": [
       "<matplotlib.figure.Figure at 0x10ccdc160>"
      ]
     },
     "metadata": {},
     "output_type": "display_data"
    }
   ],
   "source": [
    "newdf[\"Highest_Grade_Completed\"].hist()"
   ]
  },
  {
   "cell_type": "code",
   "execution_count": 27,
   "metadata": {},
   "outputs": [
    {
     "data": {
      "text/plain": [
       "0    4.631058\n",
       "1    4.631058\n",
       "2    4.631058\n",
       "3    4.631058\n",
       "4    4.631058\n",
       "Name: Highest_Grade_Completed, dtype: float64"
      ]
     },
     "execution_count": 27,
     "metadata": {},
     "output_type": "execute_result"
    }
   ],
   "source": [
    "newdf[\"Highest_Grade_Completed\"].head()"
   ]
  },
  {
   "cell_type": "code",
   "execution_count": 28,
   "metadata": {},
   "outputs": [
    {
     "data": {
      "text/html": [
       "<div>\n",
       "<style>\n",
       "    .dataframe thead tr:only-child th {\n",
       "        text-align: right;\n",
       "    }\n",
       "\n",
       "    .dataframe thead th {\n",
       "        text-align: left;\n",
       "    }\n",
       "\n",
       "    .dataframe tbody tr th {\n",
       "        vertical-align: top;\n",
       "    }\n",
       "</style>\n",
       "<table border=\"1\" class=\"dataframe\">\n",
       "  <thead>\n",
       "    <tr style=\"text-align: right;\">\n",
       "      <th></th>\n",
       "      <th>highest_grade_cat</th>\n",
       "    </tr>\n",
       "  </thead>\n",
       "  <tbody>\n",
       "    <tr>\n",
       "      <th>0</th>\n",
       "      <td>0-5th Grade</td>\n",
       "    </tr>\n",
       "    <tr>\n",
       "      <th>1</th>\n",
       "      <td>0-5th Grade</td>\n",
       "    </tr>\n",
       "    <tr>\n",
       "      <th>2</th>\n",
       "      <td>0-5th Grade</td>\n",
       "    </tr>\n",
       "    <tr>\n",
       "      <th>3</th>\n",
       "      <td>0-5th Grade</td>\n",
       "    </tr>\n",
       "    <tr>\n",
       "      <th>4</th>\n",
       "      <td>0-5th Grade</td>\n",
       "    </tr>\n",
       "  </tbody>\n",
       "</table>\n",
       "</div>"
      ],
      "text/plain": [
       "  highest_grade_cat\n",
       "0       0-5th Grade\n",
       "1       0-5th Grade\n",
       "2       0-5th Grade\n",
       "3       0-5th Grade\n",
       "4       0-5th Grade"
      ]
     },
     "execution_count": 28,
     "metadata": {},
     "output_type": "execute_result"
    }
   ],
   "source": [
    "highest_grade =newdf[\"Highest_Grade_Completed\"]\n",
    "grade_bins = [0,5,100]\n",
    "bin_names=[\"0-5th Grade\", \"5th grade or more\"]\n",
    "\n",
    "highest_grade=highest_grade.astype(\"category\", copy=False)\n",
    "highest_grade=pd.cut(highest_grade,grade_bins,labels=bin_names)\n",
    "highest_grade_cat = pd.DataFrame(highest_grade)\n",
    "highest_grade_cat.columns = [\"highest_grade_cat\"]\n",
    "highest_grade_cat.head()"
   ]
  },
  {
   "cell_type": "code",
   "execution_count": 29,
   "metadata": {},
   "outputs": [
    {
     "data": {
      "text/html": [
       "<div>\n",
       "<style>\n",
       "    .dataframe thead tr:only-child th {\n",
       "        text-align: right;\n",
       "    }\n",
       "\n",
       "    .dataframe thead th {\n",
       "        text-align: left;\n",
       "    }\n",
       "\n",
       "    .dataframe tbody tr th {\n",
       "        vertical-align: top;\n",
       "    }\n",
       "</style>\n",
       "<table border=\"1\" class=\"dataframe\">\n",
       "  <thead>\n",
       "    <tr style=\"text-align: right;\">\n",
       "      <th></th>\n",
       "      <th>0-5th Grade</th>\n",
       "      <th>5th grade or more</th>\n",
       "    </tr>\n",
       "  </thead>\n",
       "  <tbody>\n",
       "    <tr>\n",
       "      <th>0</th>\n",
       "      <td>1</td>\n",
       "      <td>0</td>\n",
       "    </tr>\n",
       "    <tr>\n",
       "      <th>1</th>\n",
       "      <td>1</td>\n",
       "      <td>0</td>\n",
       "    </tr>\n",
       "    <tr>\n",
       "      <th>2</th>\n",
       "      <td>1</td>\n",
       "      <td>0</td>\n",
       "    </tr>\n",
       "    <tr>\n",
       "      <th>3</th>\n",
       "      <td>1</td>\n",
       "      <td>0</td>\n",
       "    </tr>\n",
       "    <tr>\n",
       "      <th>4</th>\n",
       "      <td>1</td>\n",
       "      <td>0</td>\n",
       "    </tr>\n",
       "  </tbody>\n",
       "</table>\n",
       "</div>"
      ],
      "text/plain": [
       "   0-5th Grade  5th grade or more\n",
       "0            1                  0\n",
       "1            1                  0\n",
       "2            1                  0\n",
       "3            1                  0\n",
       "4            1                  0"
      ]
     },
     "execution_count": 29,
     "metadata": {},
     "output_type": "execute_result"
    }
   ],
   "source": [
    "\n",
    "df_highest_grade = pd.get_dummies(highest_grade)\n",
    "\n",
    "df_highest_grade.head()"
   ]
  },
  {
   "cell_type": "markdown",
   "metadata": {},
   "source": [
    "The average and median of this column in 4.63. So I tried to make the distribution even here"
   ]
  },
  {
   "cell_type": "markdown",
   "metadata": {},
   "source": [
    "###### Creating Dummy Variables for Types of Planting"
   ]
  },
  {
   "cell_type": "code",
   "execution_count": 30,
   "metadata": {},
   "outputs": [
    {
     "data": {
      "text/plain": [
       "<matplotlib.axes._subplots.AxesSubplot at 0x10cd47518>"
      ]
     },
     "execution_count": 30,
     "metadata": {},
     "output_type": "execute_result"
    },
    {
     "data": {
      "image/png": "[encoded data removed]",
      "text/plain": [
       "<matplotlib.figure.Figure at 0x10cd2a710>"
      ]
     },
     "metadata": {},
     "output_type": "display_data"
    }
   ],
   "source": [
    "newdf[\"Type_of_Planting\"].hist()"
   ]
  },
  {
   "cell_type": "code",
   "execution_count": 31,
   "metadata": {
    "collapsed": true
   },
   "outputs": [],
   "source": [
    "planting_types = newdf[\"Type_of_Planting\"]\n",
    "planting_types = planting_types.astype(\"category\", copy=False)\n",
    "df_planting_types = pd.get_dummies(planting_types)"
   ]
  },
  {
   "cell_type": "code",
   "execution_count": 32,
   "metadata": {},
   "outputs": [
    {
     "data": {
      "text/plain": [
       "(91231, 2)"
      ]
     },
     "execution_count": 32,
     "metadata": {},
     "output_type": "execute_result"
    }
   ],
   "source": [
    "df_planting_types.columns = [\"PlantingType_1\", \n",
    "                             \"PlantingType_2\"\n",
    "                            ]\n",
    "df_planting_types.shape"
   ]
  },
  {
   "cell_type": "markdown",
   "metadata": {},
   "source": [
    "###### Creating Dummy Variables & Bins for the Household Size"
   ]
  },
  {
   "cell_type": "code",
   "execution_count": 33,
   "metadata": {},
   "outputs": [
    {
     "data": {
      "text/plain": [
       "<matplotlib.axes._subplots.AxesSubplot at 0x10ea98b70>"
      ]
     },
     "execution_count": 33,
     "metadata": {},
     "output_type": "execute_result"
    },
    {
     "data": {
      "image/png": "[encoded data removed]",
      "text/plain": [
       "<matplotlib.figure.Figure at 0x10ccf4b38>"
      ]
     },
     "metadata": {},
     "output_type": "display_data"
    }
   ],
   "source": [
    "newdf[\"household_size\"].hist()"
   ]
  },
  {
   "cell_type": "code",
   "execution_count": 34,
   "metadata": {},
   "outputs": [
    {
     "data": {
      "text/html": [
       "<div>\n",
       "<style>\n",
       "    .dataframe thead tr:only-child th {\n",
       "        text-align: right;\n",
       "    }\n",
       "\n",
       "    .dataframe thead th {\n",
       "        text-align: left;\n",
       "    }\n",
       "\n",
       "    .dataframe tbody tr th {\n",
       "        vertical-align: top;\n",
       "    }\n",
       "</style>\n",
       "<table border=\"1\" class=\"dataframe\">\n",
       "  <thead>\n",
       "    <tr style=\"text-align: right;\">\n",
       "      <th></th>\n",
       "      <th>household_size</th>\n",
       "    </tr>\n",
       "  </thead>\n",
       "  <tbody>\n",
       "    <tr>\n",
       "      <th>0</th>\n",
       "      <td>9</td>\n",
       "    </tr>\n",
       "    <tr>\n",
       "      <th>1</th>\n",
       "      <td>9</td>\n",
       "    </tr>\n",
       "    <tr>\n",
       "      <th>2</th>\n",
       "      <td>9</td>\n",
       "    </tr>\n",
       "    <tr>\n",
       "      <th>3</th>\n",
       "      <td>9</td>\n",
       "    </tr>\n",
       "    <tr>\n",
       "      <th>4</th>\n",
       "      <td>9</td>\n",
       "    </tr>\n",
       "  </tbody>\n",
       "</table>\n",
       "</div>"
      ],
      "text/plain": [
       "   household_size\n",
       "0               9\n",
       "1               9\n",
       "2               9\n",
       "3               9\n",
       "4               9"
      ]
     },
     "execution_count": 34,
     "metadata": {},
     "output_type": "execute_result"
    }
   ],
   "source": [
    "pd.DataFrame(df[\"household_size\"], columns=[\"household_size\"]).head()"
   ]
  },
  {
   "cell_type": "markdown",
   "metadata": {
    "collapsed": true
   },
   "source": [
    "###### Based on the distribution ....\n",
    "\n",
    "It might make sense for the first bin to be 0-4 hh members, 4-6, 6-8, 8-10, 10-12, 12-16, 16-20, 20+"
   ]
  },
  {
   "cell_type": "code",
   "execution_count": 35,
   "metadata": {
    "collapsed": true
   },
   "outputs": [],
   "source": [
    "house_bins=[0,6,30]\n",
    "bin_names = [\"0-6_HH_Members\", \"More than 6_HH_Members\"\n",
    "            ]"
   ]
  },
  {
   "cell_type": "code",
   "execution_count": 36,
   "metadata": {
    "collapsed": true
   },
   "outputs": [],
   "source": [
    "hh_size=newdf[\"household_size\"]\n",
    "newdf[\"household_size\"]=pd.cut(hh_size,house_bins, labels=bin_names)"
   ]
  },
  {
   "cell_type": "code",
   "execution_count": 37,
   "metadata": {},
   "outputs": [
    {
     "data": {
      "text/html": [
       "<div>\n",
       "<style>\n",
       "    .dataframe thead tr:only-child th {\n",
       "        text-align: right;\n",
       "    }\n",
       "\n",
       "    .dataframe thead th {\n",
       "        text-align: left;\n",
       "    }\n",
       "\n",
       "    .dataframe tbody tr th {\n",
       "        vertical-align: top;\n",
       "    }\n",
       "</style>\n",
       "<table border=\"1\" class=\"dataframe\">\n",
       "  <thead>\n",
       "    <tr style=\"text-align: right;\">\n",
       "      <th></th>\n",
       "      <th>household_size</th>\n",
       "    </tr>\n",
       "  </thead>\n",
       "  <tbody>\n",
       "    <tr>\n",
       "      <th>0</th>\n",
       "      <td>More than 6_HH_Members</td>\n",
       "    </tr>\n",
       "    <tr>\n",
       "      <th>1</th>\n",
       "      <td>More than 6_HH_Members</td>\n",
       "    </tr>\n",
       "    <tr>\n",
       "      <th>2</th>\n",
       "      <td>More than 6_HH_Members</td>\n",
       "    </tr>\n",
       "    <tr>\n",
       "      <th>3</th>\n",
       "      <td>More than 6_HH_Members</td>\n",
       "    </tr>\n",
       "    <tr>\n",
       "      <th>4</th>\n",
       "      <td>More than 6_HH_Members</td>\n",
       "    </tr>\n",
       "  </tbody>\n",
       "</table>\n",
       "</div>"
      ],
      "text/plain": [
       "           household_size\n",
       "0  More than 6_HH_Members\n",
       "1  More than 6_HH_Members\n",
       "2  More than 6_HH_Members\n",
       "3  More than 6_HH_Members\n",
       "4  More than 6_HH_Members"
      ]
     },
     "execution_count": 37,
     "metadata": {},
     "output_type": "execute_result"
    }
   ],
   "source": [
    "pd.DataFrame(newdf[\"household_size\"], columns=[\"household_size\"]).head()"
   ]
  },
  {
   "cell_type": "code",
   "execution_count": 38,
   "metadata": {},
   "outputs": [
    {
     "data": {
      "text/html": [
       "<div>\n",
       "<style>\n",
       "    .dataframe thead tr:only-child th {\n",
       "        text-align: right;\n",
       "    }\n",
       "\n",
       "    .dataframe thead th {\n",
       "        text-align: left;\n",
       "    }\n",
       "\n",
       "    .dataframe tbody tr th {\n",
       "        vertical-align: top;\n",
       "    }\n",
       "</style>\n",
       "<table border=\"1\" class=\"dataframe\">\n",
       "  <thead>\n",
       "    <tr style=\"text-align: right;\">\n",
       "      <th></th>\n",
       "      <th>hh_size_cat</th>\n",
       "    </tr>\n",
       "  </thead>\n",
       "  <tbody>\n",
       "    <tr>\n",
       "      <th>0</th>\n",
       "      <td>More than 6_HH_Members</td>\n",
       "    </tr>\n",
       "    <tr>\n",
       "      <th>1</th>\n",
       "      <td>More than 6_HH_Members</td>\n",
       "    </tr>\n",
       "    <tr>\n",
       "      <th>2</th>\n",
       "      <td>More than 6_HH_Members</td>\n",
       "    </tr>\n",
       "    <tr>\n",
       "      <th>3</th>\n",
       "      <td>More than 6_HH_Members</td>\n",
       "    </tr>\n",
       "    <tr>\n",
       "      <th>4</th>\n",
       "      <td>More than 6_HH_Members</td>\n",
       "    </tr>\n",
       "  </tbody>\n",
       "</table>\n",
       "</div>"
      ],
      "text/plain": [
       "              hh_size_cat\n",
       "0  More than 6_HH_Members\n",
       "1  More than 6_HH_Members\n",
       "2  More than 6_HH_Members\n",
       "3  More than 6_HH_Members\n",
       "4  More than 6_HH_Members"
      ]
     },
     "execution_count": 38,
     "metadata": {},
     "output_type": "execute_result"
    }
   ],
   "source": [
    "hh_size = newdf[\"household_size\"]\n",
    "hh_size = hh_size.astype(\"category\", copy=False)\n",
    "\n",
    "###Create a single vector\n",
    "hh_size_cat = pd.DataFrame(hh_size)\n",
    "hh_size_cat.columns = [\"hh_size_cat\"]\n",
    "\n",
    "###Get a dummy matrix for the vector\n",
    "df_hh_size = pd.get_dummies(hh_size)\n",
    "\n",
    "hh_size_cat.head()"
   ]
  },
  {
   "cell_type": "code",
   "execution_count": 39,
   "metadata": {},
   "outputs": [
    {
     "data": {
      "text/plain": [
       "(91231, 2)"
      ]
     },
     "execution_count": 39,
     "metadata": {},
     "output_type": "execute_result"
    }
   ],
   "source": [
    "df_hh_size.shape"
   ]
  },
  {
   "cell_type": "markdown",
   "metadata": {},
   "source": [
    "###### Age\n",
    "\n",
    "Mean is 23 \n",
    "Median is 21\n",
    "\n",
    "\n"
   ]
  },
  {
   "cell_type": "code",
   "execution_count": 40,
   "metadata": {},
   "outputs": [
    {
     "data": {
      "text/plain": [
       "<matplotlib.axes._subplots.AxesSubplot at 0x10ebcfc50>"
      ]
     },
     "execution_count": 40,
     "metadata": {},
     "output_type": "execute_result"
    },
    {
     "data": {
      "image/png": "[encoded data removed]",
      "text/plain": [
       "<matplotlib.figure.Figure at 0x10caad7b8>"
      ]
     },
     "metadata": {},
     "output_type": "display_data"
    }
   ],
   "source": [
    "newdf[\"age_of_hh_member\"].hist()"
   ]
  },
  {
   "cell_type": "code",
   "execution_count": 41,
   "metadata": {
    "collapsed": true
   },
   "outputs": [],
   "source": [
    "ages=newdf[\"age_of_hh_member\"]\n",
    "age_bins = [0,21,100]\n",
    "bin_names = [\"Under 21\", \"Over 21\"]"
   ]
  },
  {
   "cell_type": "code",
   "execution_count": 42,
   "metadata": {},
   "outputs": [
    {
     "data": {
      "text/html": [
       "<div>\n",
       "<style>\n",
       "    .dataframe thead tr:only-child th {\n",
       "        text-align: right;\n",
       "    }\n",
       "\n",
       "    .dataframe thead th {\n",
       "        text-align: left;\n",
       "    }\n",
       "\n",
       "    .dataframe tbody tr th {\n",
       "        vertical-align: top;\n",
       "    }\n",
       "</style>\n",
       "<table border=\"1\" class=\"dataframe\">\n",
       "  <thead>\n",
       "    <tr style=\"text-align: right;\">\n",
       "      <th></th>\n",
       "      <th>ages_cat</th>\n",
       "    </tr>\n",
       "  </thead>\n",
       "  <tbody>\n",
       "    <tr>\n",
       "      <th>0</th>\n",
       "      <td>Over 21</td>\n",
       "    </tr>\n",
       "    <tr>\n",
       "      <th>1</th>\n",
       "      <td>Over 21</td>\n",
       "    </tr>\n",
       "    <tr>\n",
       "      <th>2</th>\n",
       "      <td>Over 21</td>\n",
       "    </tr>\n",
       "    <tr>\n",
       "      <th>3</th>\n",
       "      <td>Over 21</td>\n",
       "    </tr>\n",
       "    <tr>\n",
       "      <th>4</th>\n",
       "      <td>Over 21</td>\n",
       "    </tr>\n",
       "  </tbody>\n",
       "</table>\n",
       "</div>"
      ],
      "text/plain": [
       "  ages_cat\n",
       "0  Over 21\n",
       "1  Over 21\n",
       "2  Over 21\n",
       "3  Over 21\n",
       "4  Over 21"
      ]
     },
     "execution_count": 42,
     "metadata": {},
     "output_type": "execute_result"
    }
   ],
   "source": [
    "ages = pd.cut(ages, age_bins, labels=bin_names)\n",
    "\n",
    "###Get a single vector\n",
    "ages_cat=pd.DataFrame(ages)\n",
    "ages_cat.columns = [\"ages_cat\"]\n",
    "ages_cat.head()"
   ]
  },
  {
   "cell_type": "code",
   "execution_count": 43,
   "metadata": {},
   "outputs": [
    {
     "data": {
      "text/plain": [
       "(91231, 2)"
      ]
     },
     "execution_count": 43,
     "metadata": {},
     "output_type": "execute_result"
    }
   ],
   "source": [
    "df_ages = pd.get_dummies(ages)\n",
    "df_ages.shape"
   ]
  },
  {
   "cell_type": "markdown",
   "metadata": {},
   "source": [
    "###### HH Member Relationship\n",
    "\n",
    "1 - Head of the household\n",
    "\n",
    "2 - Spouse\n",
    "\n",
    "3- Child\n",
    "\n",
    "4 - Grandchild\n",
    "\n",
    "5 - Parent\n",
    "\n",
    "6 - Sibling\n",
    "\n",
    "7 - Niece_or_Nephew\n",
    "\n",
    "8 - Uncle/Aunt\n",
    "\n",
    "9-Child in Law\n",
    "\n",
    "10-Parent IN law\n",
    "\n",
    "11-Sibling in law\n",
    "\n",
    "12-Grandparent\n",
    "\n",
    "13-OtherRelative\n",
    "\n",
    "14-Servant\n",
    "\n",
    "15-NonRelative"
   ]
  },
  {
   "cell_type": "code",
   "execution_count": 44,
   "metadata": {},
   "outputs": [
    {
     "data": {
      "text/plain": [
       "array([ 1,  2,  3,  4,  9,  7,  5, 10, 13, 14,  6,  8, 12, 11, 15])"
      ]
     },
     "execution_count": 44,
     "metadata": {},
     "output_type": "execute_result"
    }
   ],
   "source": [
    "newdf[\"hh_member_relationship\"].unique()"
   ]
  },
  {
   "cell_type": "code",
   "execution_count": 45,
   "metadata": {},
   "outputs": [
    {
     "data": {
      "text/plain": [
       "{1: 'head',\n",
       " 2: 'spouse',\n",
       " 3: 'child',\n",
       " 4: 'grandchild',\n",
       " 5: 'niece_nephew',\n",
       " 6: 'sibling_in_law',\n",
       " 7: 'sibling',\n",
       " 8: 'grandparent',\n",
       " 9: 'parent',\n",
       " 10: 'uncle_aunt',\n",
       " 11: 'servant',\n",
       " 12: 'otherrelative',\n",
       " 13: 'child_in_law',\n",
       " 14: 'parent_in_law',\n",
       " 15: 'nonrelative'}"
      ]
     },
     "execution_count": 45,
     "metadata": {},
     "output_type": "execute_result"
    }
   ],
   "source": [
    "keys=[]\n",
    "for i in newdf[\"hh_member_relationship\"].unique():\n",
    "    keys.append(i)\n",
    "\n",
    "values=[\"head\",\"spouse\",\"child\",\"grandchild\",\n",
    "        \"parent\",\"sibling\",\"niece_nephew\",\"uncle_aunt\",\n",
    "        \"child_in_law\",\"parent_in_law\",\"sibling_in_law\", \n",
    "        \"grandparent\", \"otherrelative\", \"servant\", \n",
    "        \"nonrelative\"]\n",
    "\n",
    "hh_rel_dict = dict(zip(keys, values))\n",
    "hh_rel_dict"
   ]
  },
  {
   "cell_type": "code",
   "execution_count": 46,
   "metadata": {},
   "outputs": [
    {
     "name": "stdout",
     "output_type": "stream",
     "text": [
      "1 head\n",
      "2 spouse\n",
      "3 child\n",
      "4 grandchild\n",
      "9 parent\n",
      "7 sibling\n",
      "5 niece_nephew\n",
      "10 uncle_aunt\n",
      "13 child_in_law\n",
      "14 parent_in_law\n",
      "6 sibling_in_law\n",
      "8 grandparent\n",
      "12 otherrelative\n",
      "11 servant\n",
      "15 nonrelative\n"
     ]
    }
   ],
   "source": [
    "for keys, values in hh_rel_dict.items():\n",
    "    print(keys, values)"
   ]
  },
  {
   "cell_type": "code",
   "execution_count": 47,
   "metadata": {
    "collapsed": true
   },
   "outputs": [],
   "source": [
    "hh_rel = cat_cols(newdf[\"hh_member_relationship\"], \n",
    "                  hh_rel_dict)"
   ]
  },
  {
   "cell_type": "code",
   "execution_count": 48,
   "metadata": {},
   "outputs": [
    {
     "data": {
      "text/html": [
       "<div>\n",
       "<style>\n",
       "    .dataframe thead tr:only-child th {\n",
       "        text-align: right;\n",
       "    }\n",
       "\n",
       "    .dataframe thead th {\n",
       "        text-align: left;\n",
       "    }\n",
       "\n",
       "    .dataframe tbody tr th {\n",
       "        vertical-align: top;\n",
       "    }\n",
       "</style>\n",
       "<table border=\"1\" class=\"dataframe\">\n",
       "  <thead>\n",
       "    <tr style=\"text-align: right;\">\n",
       "      <th></th>\n",
       "      <th>hh_mem_rel_cat</th>\n",
       "    </tr>\n",
       "  </thead>\n",
       "  <tbody>\n",
       "    <tr>\n",
       "      <th>0</th>\n",
       "      <td>head</td>\n",
       "    </tr>\n",
       "    <tr>\n",
       "      <th>1</th>\n",
       "      <td>head</td>\n",
       "    </tr>\n",
       "    <tr>\n",
       "      <th>2</th>\n",
       "      <td>spouse</td>\n",
       "    </tr>\n",
       "    <tr>\n",
       "      <th>3</th>\n",
       "      <td>spouse</td>\n",
       "    </tr>\n",
       "    <tr>\n",
       "      <th>4</th>\n",
       "      <td>spouse</td>\n",
       "    </tr>\n",
       "  </tbody>\n",
       "</table>\n",
       "</div>"
      ],
      "text/plain": [
       "  hh_mem_rel_cat\n",
       "0           head\n",
       "1           head\n",
       "2         spouse\n",
       "3         spouse\n",
       "4         spouse"
      ]
     },
     "execution_count": 48,
     "metadata": {},
     "output_type": "execute_result"
    }
   ],
   "source": [
    "hh_rel.columns = [\"hh_mem_rel_cat\"]\n",
    "hh_rel.head()"
   ]
  },
  {
   "cell_type": "markdown",
   "metadata": {},
   "source": [
    "###### Marital Status\n",
    "\n",
    "1-NeverMarried\n",
    "2-Married(Mono)\n",
    "3-Married_Poly\n",
    "4-Divorced\n",
    "5-Separated\n",
    "6-Widowed"
   ]
  },
  {
   "cell_type": "code",
   "execution_count": 49,
   "metadata": {
    "collapsed": true
   },
   "outputs": [],
   "source": [
    "keys = []\n",
    "for i in newdf[\"marital_status\"].unique():\n",
    "    keys.append(i)\n",
    "    \n",
    "values = [\"never_married\", \"married_mono\", \"married_poly\", \"divorced\", \"separated\", \"widowed\"]\n",
    "\n",
    "marital_status_dict = dict(zip(keys, values))"
   ]
  },
  {
   "cell_type": "code",
   "execution_count": 50,
   "metadata": {
    "collapsed": true
   },
   "outputs": [],
   "source": [
    "marital_stat_cat = cat_cols(newdf[\"marital_status\"], marital_status_dict)"
   ]
  },
  {
   "cell_type": "code",
   "execution_count": 51,
   "metadata": {},
   "outputs": [
    {
     "data": {
      "text/html": [
       "<div>\n",
       "<style>\n",
       "    .dataframe thead tr:only-child th {\n",
       "        text-align: right;\n",
       "    }\n",
       "\n",
       "    .dataframe thead th {\n",
       "        text-align: left;\n",
       "    }\n",
       "\n",
       "    .dataframe tbody tr th {\n",
       "        vertical-align: top;\n",
       "    }\n",
       "</style>\n",
       "<table border=\"1\" class=\"dataframe\">\n",
       "  <thead>\n",
       "    <tr style=\"text-align: right;\">\n",
       "      <th></th>\n",
       "      <th>marital_stat_cat</th>\n",
       "    </tr>\n",
       "  </thead>\n",
       "  <tbody>\n",
       "    <tr>\n",
       "      <th>0</th>\n",
       "      <td>never_married</td>\n",
       "    </tr>\n",
       "    <tr>\n",
       "      <th>1</th>\n",
       "      <td>never_married</td>\n",
       "    </tr>\n",
       "    <tr>\n",
       "      <th>2</th>\n",
       "      <td>married_mono</td>\n",
       "    </tr>\n",
       "    <tr>\n",
       "      <th>3</th>\n",
       "      <td>married_mono</td>\n",
       "    </tr>\n",
       "    <tr>\n",
       "      <th>4</th>\n",
       "      <td>married_mono</td>\n",
       "    </tr>\n",
       "  </tbody>\n",
       "</table>\n",
       "</div>"
      ],
      "text/plain": [
       "  marital_stat_cat\n",
       "0    never_married\n",
       "1    never_married\n",
       "2     married_mono\n",
       "3     married_mono\n",
       "4     married_mono"
      ]
     },
     "execution_count": 51,
     "metadata": {},
     "output_type": "execute_result"
    }
   ],
   "source": [
    "marital_stat_cat.columns = [\"marital_stat_cat\"]\n",
    "marital_stat_cat.head()"
   ]
  },
  {
   "cell_type": "markdown",
   "metadata": {},
   "source": [
    "###### Extension Program\n",
    "\n",
    "1- Yes\n",
    "\n",
    "2-No"
   ]
  },
  {
   "cell_type": "code",
   "execution_count": 52,
   "metadata": {},
   "outputs": [
    {
     "data": {
      "text/plain": [
       "array([1, 2])"
      ]
     },
     "execution_count": 52,
     "metadata": {},
     "output_type": "execute_result"
    }
   ],
   "source": [
    "newdf[\"extension_program\"].unique()"
   ]
  },
  {
   "cell_type": "code",
   "execution_count": 53,
   "metadata": {
    "collapsed": true
   },
   "outputs": [],
   "source": [
    "keys=[]\n",
    "for i in newdf[\"extension_program\"].unique():\n",
    "    keys.append(i)\n",
    "    \n",
    "values = [\"yes\", \"no\"]\n",
    "ext_program_dict = dict(zip(keys, values))"
   ]
  },
  {
   "cell_type": "code",
   "execution_count": 54,
   "metadata": {
    "collapsed": true
   },
   "outputs": [],
   "source": [
    "ext_program_cat=cat_cols(newdf[\"extension_program\"], ext_program_dict)"
   ]
  },
  {
   "cell_type": "code",
   "execution_count": 55,
   "metadata": {},
   "outputs": [
    {
     "data": {
      "text/html": [
       "<div>\n",
       "<style>\n",
       "    .dataframe thead tr:only-child th {\n",
       "        text-align: right;\n",
       "    }\n",
       "\n",
       "    .dataframe thead th {\n",
       "        text-align: left;\n",
       "    }\n",
       "\n",
       "    .dataframe tbody tr th {\n",
       "        vertical-align: top;\n",
       "    }\n",
       "</style>\n",
       "<table border=\"1\" class=\"dataframe\">\n",
       "  <thead>\n",
       "    <tr style=\"text-align: right;\">\n",
       "      <th></th>\n",
       "      <th>ext_program_cat</th>\n",
       "    </tr>\n",
       "  </thead>\n",
       "  <tbody>\n",
       "    <tr>\n",
       "      <th>0</th>\n",
       "      <td>yes</td>\n",
       "    </tr>\n",
       "    <tr>\n",
       "      <th>1</th>\n",
       "      <td>yes</td>\n",
       "    </tr>\n",
       "    <tr>\n",
       "      <th>2</th>\n",
       "      <td>yes</td>\n",
       "    </tr>\n",
       "    <tr>\n",
       "      <th>3</th>\n",
       "      <td>yes</td>\n",
       "    </tr>\n",
       "    <tr>\n",
       "      <th>4</th>\n",
       "      <td>yes</td>\n",
       "    </tr>\n",
       "  </tbody>\n",
       "</table>\n",
       "</div>"
      ],
      "text/plain": [
       "  ext_program_cat\n",
       "0             yes\n",
       "1             yes\n",
       "2             yes\n",
       "3             yes\n",
       "4             yes"
      ]
     },
     "execution_count": 55,
     "metadata": {},
     "output_type": "execute_result"
    }
   ],
   "source": [
    "ext_program_cat.columns = [\"ext_program_cat\"]\n",
    "ext_program_cat.head()"
   ]
  },
  {
   "cell_type": "markdown",
   "metadata": {},
   "source": [
    "###### Advisory Program\n",
    "1-Yes\n",
    "2-No"
   ]
  },
  {
   "cell_type": "code",
   "execution_count": 56,
   "metadata": {},
   "outputs": [
    {
     "data": {
      "text/plain": [
       "array([2, 1])"
      ]
     },
     "execution_count": 56,
     "metadata": {},
     "output_type": "execute_result"
    }
   ],
   "source": [
    "newdf[\"advisory_Services\"].unique()"
   ]
  },
  {
   "cell_type": "code",
   "execution_count": 57,
   "metadata": {
    "collapsed": true
   },
   "outputs": [],
   "source": [
    "keys = []\n",
    "for i in newdf[\"advisory_Services\"].unique():\n",
    "    keys.append(i)\n",
    "    \n",
    "values = [\"no\", \"yes\"]\n",
    "adv_services = dict(zip(keys, values))\n"
   ]
  },
  {
   "cell_type": "code",
   "execution_count": 58,
   "metadata": {
    "collapsed": true
   },
   "outputs": [],
   "source": [
    "adv_services_cat = cat_cols(newdf[\"advisory_Services\"], adv_services)"
   ]
  },
  {
   "cell_type": "code",
   "execution_count": 59,
   "metadata": {},
   "outputs": [
    {
     "data": {
      "text/html": [
       "<div>\n",
       "<style>\n",
       "    .dataframe thead tr:only-child th {\n",
       "        text-align: right;\n",
       "    }\n",
       "\n",
       "    .dataframe thead th {\n",
       "        text-align: left;\n",
       "    }\n",
       "\n",
       "    .dataframe tbody tr th {\n",
       "        vertical-align: top;\n",
       "    }\n",
       "</style>\n",
       "<table border=\"1\" class=\"dataframe\">\n",
       "  <thead>\n",
       "    <tr style=\"text-align: right;\">\n",
       "      <th></th>\n",
       "      <th>adv_services_cat</th>\n",
       "    </tr>\n",
       "  </thead>\n",
       "  <tbody>\n",
       "    <tr>\n",
       "      <th>0</th>\n",
       "      <td>no</td>\n",
       "    </tr>\n",
       "    <tr>\n",
       "      <th>1</th>\n",
       "      <td>no</td>\n",
       "    </tr>\n",
       "    <tr>\n",
       "      <th>2</th>\n",
       "      <td>yes</td>\n",
       "    </tr>\n",
       "    <tr>\n",
       "      <th>3</th>\n",
       "      <td>yes</td>\n",
       "    </tr>\n",
       "    <tr>\n",
       "      <th>4</th>\n",
       "      <td>yes</td>\n",
       "    </tr>\n",
       "  </tbody>\n",
       "</table>\n",
       "</div>"
      ],
      "text/plain": [
       "  adv_services_cat\n",
       "0               no\n",
       "1               no\n",
       "2              yes\n",
       "3              yes\n",
       "4              yes"
      ]
     },
     "execution_count": 59,
     "metadata": {},
     "output_type": "execute_result"
    }
   ],
   "source": [
    "adv_services_cat.columns = [\"adv_services_cat\"]\n",
    "adv_services_cat.head()"
   ]
  },
  {
   "cell_type": "markdown",
   "metadata": {},
   "source": [
    "###### Who decides on use of crops\n",
    "\n",
    "1- Adult Males\n",
    "\n",
    "2 = Adult Females\n",
    "\n",
    "3 - Young Males\n",
    "\n",
    "4 - Young Females\n",
    "\n",
    "5 - All Members together\n",
    "\n",
    "6 - NA\n",
    "\n",
    "7 - Other"
   ]
  },
  {
   "cell_type": "code",
   "execution_count": 60,
   "metadata": {
    "collapsed": true
   },
   "outputs": [],
   "source": [
    "keys =[]\n",
    "for i in newdf[\"who_decides_on_use_of_crops\"].unique():\n",
    "    keys.append(i)\n",
    "values =[\"adult_females\", \"NA\", \"adult_males\", \"young_males\", \"all_members\", \"young_females\", \"other\"]\n",
    "\n",
    "decides_use_crops_dict = dict(zip(keys, values))"
   ]
  },
  {
   "cell_type": "code",
   "execution_count": 61,
   "metadata": {
    "collapsed": true
   },
   "outputs": [],
   "source": [
    "decides_use_crops_cat = cat_cols(newdf[\"who_decides_on_use_of_crops\"], decides_use_crops_dict)"
   ]
  },
  {
   "cell_type": "code",
   "execution_count": 62,
   "metadata": {},
   "outputs": [
    {
     "data": {
      "text/html": [
       "<div>\n",
       "<style>\n",
       "    .dataframe thead tr:only-child th {\n",
       "        text-align: right;\n",
       "    }\n",
       "\n",
       "    .dataframe thead th {\n",
       "        text-align: left;\n",
       "    }\n",
       "\n",
       "    .dataframe tbody tr th {\n",
       "        vertical-align: top;\n",
       "    }\n",
       "</style>\n",
       "<table border=\"1\" class=\"dataframe\">\n",
       "  <thead>\n",
       "    <tr style=\"text-align: right;\">\n",
       "      <th></th>\n",
       "      <th>who_decides_use_crops_cat</th>\n",
       "    </tr>\n",
       "  </thead>\n",
       "  <tbody>\n",
       "    <tr>\n",
       "      <th>0</th>\n",
       "      <td>adult_females</td>\n",
       "    </tr>\n",
       "    <tr>\n",
       "      <th>1</th>\n",
       "      <td>adult_females</td>\n",
       "    </tr>\n",
       "    <tr>\n",
       "      <th>2</th>\n",
       "      <td>adult_females</td>\n",
       "    </tr>\n",
       "    <tr>\n",
       "      <th>3</th>\n",
       "      <td>adult_females</td>\n",
       "    </tr>\n",
       "    <tr>\n",
       "      <th>4</th>\n",
       "      <td>adult_females</td>\n",
       "    </tr>\n",
       "  </tbody>\n",
       "</table>\n",
       "</div>"
      ],
      "text/plain": [
       "  who_decides_use_crops_cat\n",
       "0             adult_females\n",
       "1             adult_females\n",
       "2             adult_females\n",
       "3             adult_females\n",
       "4             adult_females"
      ]
     },
     "execution_count": 62,
     "metadata": {},
     "output_type": "execute_result"
    }
   ],
   "source": [
    "decides_use_crops_cat.columns = [\"who_decides_use_crops_cat\"]\n",
    "decides_use_crops_cat.head()"
   ]
  },
  {
   "cell_type": "markdown",
   "metadata": {},
   "source": [
    "###### Concat Results to DataFrame"
   ]
  },
  {
   "cell_type": "markdown",
   "metadata": {},
   "source": [
    "###### First Delete the Columns that the changes we made to "
   ]
  },
  {
   "cell_type": "code",
   "execution_count": 63,
   "metadata": {
    "collapsed": true
   },
   "outputs": [],
   "source": [
    "remove_list=[\"Type_of_Planting\", \"household_size\", \n",
    "             \"Highest_Grade_Completed\", \"region_code\",\n",
    "             \"crop_name\", \"age_of_hh_member\"\n",
    "            ]\n",
    "newdf=newdf.drop(remove_list, axis=1, errors=\"ignore\")"
   ]
  },
  {
   "cell_type": "code",
   "execution_count": 64,
   "metadata": {},
   "outputs": [],
   "source": [
    "newdf=pd.concat([newdf, df_crop_names, df_hh_size, \n",
    "                 df_highest_grade, df_planting_types, \n",
    "                 df_regions, df_total_hours], axis=1)"
   ]
  },
  {
   "cell_type": "code",
   "execution_count": 65,
   "metadata": {
    "collapsed": true
   },
   "outputs": [],
   "source": [
    "catdf=pd.concat([newdf, df_total_hours_cat, crop_name_cat, \n",
    "                 highest_grade_cat, hh_size_cat, ages_cat, hh_rel, \n",
    "                 decides_use_crops_cat, adv_services_cat, ext_program_cat, \n",
    "                 marital_stat_cat, region_cat\n",
    "                ], axis=1)\n"
   ]
  },
  {
   "cell_type": "code",
   "execution_count": 66,
   "metadata": {
    "scrolled": true
   },
   "outputs": [
    {
     "data": {
      "text/plain": [
       "(107380, 99)"
      ]
     },
     "execution_count": 66,
     "metadata": {},
     "output_type": "execute_result"
    }
   ],
   "source": [
    "newdf.shape"
   ]
  },
  {
   "cell_type": "code",
   "execution_count": 67,
   "metadata": {},
   "outputs": [
    {
     "data": {
      "text/html": [
       "<div>\n",
       "<style>\n",
       "    .dataframe thead tr:only-child th {\n",
       "        text-align: right;\n",
       "    }\n",
       "\n",
       "    .dataframe thead th {\n",
       "        text-align: left;\n",
       "    }\n",
       "\n",
       "    .dataframe tbody tr th {\n",
       "        vertical-align: top;\n",
       "    }\n",
       "</style>\n",
       "<table border=\"1\" class=\"dataframe\">\n",
       "  <thead>\n",
       "    <tr style=\"text-align: right;\">\n",
       "      <th></th>\n",
       "      <th>household_id2</th>\n",
       "      <th>individual_id2</th>\n",
       "      <th>zone_code</th>\n",
       "      <th>hh_member_relationship</th>\n",
       "      <th>sex_of_hh_member</th>\n",
       "      <th>marital_status</th>\n",
       "      <th>hours_per_week_agg</th>\n",
       "      <th>hours_per_week_other_jobs</th>\n",
       "      <th>hours_per_week_collect_water</th>\n",
       "      <th>pw_w3</th>\n",
       "      <th>...</th>\n",
       "      <th>5th grade or more</th>\n",
       "      <th>PlantingType_1</th>\n",
       "      <th>PlantingType_2</th>\n",
       "      <th>North_Region</th>\n",
       "      <th>South_Region</th>\n",
       "      <th>0 Hours</th>\n",
       "      <th>1-10 Hours</th>\n",
       "      <th>10-40</th>\n",
       "      <th>40-60</th>\n",
       "      <th>60+ Hours</th>\n",
       "    </tr>\n",
       "  </thead>\n",
       "  <tbody>\n",
       "    <tr>\n",
       "      <th>0</th>\n",
       "      <td>1.010109e+16</td>\n",
       "      <td>1.010109e+18</td>\n",
       "      <td>1.0</td>\n",
       "      <td>1.0</td>\n",
       "      <td>2.0</td>\n",
       "      <td>6.0</td>\n",
       "      <td>0.0</td>\n",
       "      <td>0.0</td>\n",
       "      <td>0.0</td>\n",
       "      <td>2897.155029</td>\n",
       "      <td>...</td>\n",
       "      <td>0.0</td>\n",
       "      <td>1.0</td>\n",
       "      <td>0.0</td>\n",
       "      <td>1.0</td>\n",
       "      <td>0.0</td>\n",
       "      <td>1.0</td>\n",
       "      <td>0.0</td>\n",
       "      <td>0.0</td>\n",
       "      <td>0.0</td>\n",
       "      <td>0.0</td>\n",
       "    </tr>\n",
       "    <tr>\n",
       "      <th>1</th>\n",
       "      <td>1.010109e+16</td>\n",
       "      <td>1.010109e+18</td>\n",
       "      <td>1.0</td>\n",
       "      <td>1.0</td>\n",
       "      <td>2.0</td>\n",
       "      <td>6.0</td>\n",
       "      <td>0.0</td>\n",
       "      <td>0.0</td>\n",
       "      <td>0.0</td>\n",
       "      <td>2897.155029</td>\n",
       "      <td>...</td>\n",
       "      <td>0.0</td>\n",
       "      <td>1.0</td>\n",
       "      <td>0.0</td>\n",
       "      <td>1.0</td>\n",
       "      <td>0.0</td>\n",
       "      <td>1.0</td>\n",
       "      <td>0.0</td>\n",
       "      <td>0.0</td>\n",
       "      <td>0.0</td>\n",
       "      <td>0.0</td>\n",
       "    </tr>\n",
       "    <tr>\n",
       "      <th>2</th>\n",
       "      <td>1.010109e+16</td>\n",
       "      <td>1.010109e+18</td>\n",
       "      <td>1.0</td>\n",
       "      <td>2.0</td>\n",
       "      <td>2.0</td>\n",
       "      <td>2.0</td>\n",
       "      <td>0.0</td>\n",
       "      <td>0.0</td>\n",
       "      <td>0.0</td>\n",
       "      <td>2897.155029</td>\n",
       "      <td>...</td>\n",
       "      <td>0.0</td>\n",
       "      <td>1.0</td>\n",
       "      <td>0.0</td>\n",
       "      <td>1.0</td>\n",
       "      <td>0.0</td>\n",
       "      <td>1.0</td>\n",
       "      <td>0.0</td>\n",
       "      <td>0.0</td>\n",
       "      <td>0.0</td>\n",
       "      <td>0.0</td>\n",
       "    </tr>\n",
       "    <tr>\n",
       "      <th>3</th>\n",
       "      <td>1.010109e+16</td>\n",
       "      <td>1.010109e+18</td>\n",
       "      <td>1.0</td>\n",
       "      <td>2.0</td>\n",
       "      <td>2.0</td>\n",
       "      <td>2.0</td>\n",
       "      <td>0.0</td>\n",
       "      <td>0.0</td>\n",
       "      <td>0.0</td>\n",
       "      <td>2897.155029</td>\n",
       "      <td>...</td>\n",
       "      <td>0.0</td>\n",
       "      <td>1.0</td>\n",
       "      <td>0.0</td>\n",
       "      <td>1.0</td>\n",
       "      <td>0.0</td>\n",
       "      <td>1.0</td>\n",
       "      <td>0.0</td>\n",
       "      <td>0.0</td>\n",
       "      <td>0.0</td>\n",
       "      <td>0.0</td>\n",
       "    </tr>\n",
       "    <tr>\n",
       "      <th>4</th>\n",
       "      <td>1.010109e+16</td>\n",
       "      <td>1.010109e+18</td>\n",
       "      <td>1.0</td>\n",
       "      <td>2.0</td>\n",
       "      <td>2.0</td>\n",
       "      <td>2.0</td>\n",
       "      <td>0.0</td>\n",
       "      <td>0.0</td>\n",
       "      <td>0.0</td>\n",
       "      <td>2897.155029</td>\n",
       "      <td>...</td>\n",
       "      <td>0.0</td>\n",
       "      <td>1.0</td>\n",
       "      <td>0.0</td>\n",
       "      <td>1.0</td>\n",
       "      <td>0.0</td>\n",
       "      <td>1.0</td>\n",
       "      <td>0.0</td>\n",
       "      <td>0.0</td>\n",
       "      <td>0.0</td>\n",
       "      <td>0.0</td>\n",
       "    </tr>\n",
       "  </tbody>\n",
       "</table>\n",
       "<p>5 rows × 99 columns</p>\n",
       "</div>"
      ],
      "text/plain": [
       "   household_id2  individual_id2  zone_code  hh_member_relationship  \\\n",
       "0   1.010109e+16    1.010109e+18        1.0                     1.0   \n",
       "1   1.010109e+16    1.010109e+18        1.0                     1.0   \n",
       "2   1.010109e+16    1.010109e+18        1.0                     2.0   \n",
       "3   1.010109e+16    1.010109e+18        1.0                     2.0   \n",
       "4   1.010109e+16    1.010109e+18        1.0                     2.0   \n",
       "\n",
       "   sex_of_hh_member  marital_status  hours_per_week_agg  \\\n",
       "0               2.0             6.0                 0.0   \n",
       "1               2.0             6.0                 0.0   \n",
       "2               2.0             2.0                 0.0   \n",
       "3               2.0             2.0                 0.0   \n",
       "4               2.0             2.0                 0.0   \n",
       "\n",
       "   hours_per_week_other_jobs  hours_per_week_collect_water        pw_w3  \\\n",
       "0                        0.0                           0.0  2897.155029   \n",
       "1                        0.0                           0.0  2897.155029   \n",
       "2                        0.0                           0.0  2897.155029   \n",
       "3                        0.0                           0.0  2897.155029   \n",
       "4                        0.0                           0.0  2897.155029   \n",
       "\n",
       "     ...      5th grade or more  PlantingType_1  PlantingType_2  North_Region  \\\n",
       "0    ...                    0.0             1.0             0.0           1.0   \n",
       "1    ...                    0.0             1.0             0.0           1.0   \n",
       "2    ...                    0.0             1.0             0.0           1.0   \n",
       "3    ...                    0.0             1.0             0.0           1.0   \n",
       "4    ...                    0.0             1.0             0.0           1.0   \n",
       "\n",
       "   South_Region  0 Hours  1-10 Hours  10-40  40-60  60+ Hours  \n",
       "0           0.0      1.0         0.0    0.0    0.0        0.0  \n",
       "1           0.0      1.0         0.0    0.0    0.0        0.0  \n",
       "2           0.0      1.0         0.0    0.0    0.0        0.0  \n",
       "3           0.0      1.0         0.0    0.0    0.0        0.0  \n",
       "4           0.0      1.0         0.0    0.0    0.0        0.0  \n",
       "\n",
       "[5 rows x 99 columns]"
      ]
     },
     "execution_count": 67,
     "metadata": {},
     "output_type": "execute_result"
    }
   ],
   "source": [
    "newdf.head()"
   ]
  },
  {
   "cell_type": "markdown",
   "metadata": {},
   "source": [
    "###### Only want instances where target variable is non-null"
   ]
  },
  {
   "cell_type": "code",
   "execution_count": 68,
   "metadata": {},
   "outputs": [
    {
     "data": {
      "text/plain": [
       "(91231, 99)"
      ]
     },
     "execution_count": 68,
     "metadata": {},
     "output_type": "execute_result"
    }
   ],
   "source": [
    "newdf = newdf[np.isfinite(newdf[\"total_hours\"])]\n",
    "newdf.shape"
   ]
  },
  {
   "cell_type": "code",
   "execution_count": 69,
   "metadata": {},
   "outputs": [
    {
     "data": {
      "text/html": [
       "<div>\n",
       "<style>\n",
       "    .dataframe thead tr:only-child th {\n",
       "        text-align: right;\n",
       "    }\n",
       "\n",
       "    .dataframe thead th {\n",
       "        text-align: left;\n",
       "    }\n",
       "\n",
       "    .dataframe tbody tr th {\n",
       "        vertical-align: top;\n",
       "    }\n",
       "</style>\n",
       "<table border=\"1\" class=\"dataframe\">\n",
       "  <thead>\n",
       "    <tr style=\"text-align: right;\">\n",
       "      <th></th>\n",
       "      <th>household_id2</th>\n",
       "      <th>individual_id2</th>\n",
       "      <th>zone_code</th>\n",
       "      <th>hh_member_relationship</th>\n",
       "      <th>sex_of_hh_member</th>\n",
       "      <th>marital_status</th>\n",
       "      <th>hours_per_week_agg</th>\n",
       "      <th>hours_per_week_other_jobs</th>\n",
       "      <th>hours_per_week_collect_water</th>\n",
       "      <th>pw_w3</th>\n",
       "      <th>...</th>\n",
       "      <th>5th grade or more</th>\n",
       "      <th>PlantingType_1</th>\n",
       "      <th>PlantingType_2</th>\n",
       "      <th>North_Region</th>\n",
       "      <th>South_Region</th>\n",
       "      <th>0 Hours</th>\n",
       "      <th>1-10 Hours</th>\n",
       "      <th>10-40</th>\n",
       "      <th>40-60</th>\n",
       "      <th>60+ Hours</th>\n",
       "    </tr>\n",
       "  </thead>\n",
       "  <tbody>\n",
       "    <tr>\n",
       "      <th>count</th>\n",
       "      <td>91231</td>\n",
       "      <td>91231</td>\n",
       "      <td>91231</td>\n",
       "      <td>91231</td>\n",
       "      <td>91231</td>\n",
       "      <td>91231</td>\n",
       "      <td>91231</td>\n",
       "      <td>91231</td>\n",
       "      <td>91231</td>\n",
       "      <td>91231</td>\n",
       "      <td>...</td>\n",
       "      <td>91231</td>\n",
       "      <td>91231</td>\n",
       "      <td>91231</td>\n",
       "      <td>91231</td>\n",
       "      <td>91231</td>\n",
       "      <td>91231</td>\n",
       "      <td>91231</td>\n",
       "      <td>91231</td>\n",
       "      <td>91231</td>\n",
       "      <td>91231</td>\n",
       "    </tr>\n",
       "    <tr>\n",
       "      <th>unique</th>\n",
       "      <td>1</td>\n",
       "      <td>1</td>\n",
       "      <td>1</td>\n",
       "      <td>1</td>\n",
       "      <td>1</td>\n",
       "      <td>1</td>\n",
       "      <td>1</td>\n",
       "      <td>1</td>\n",
       "      <td>1</td>\n",
       "      <td>1</td>\n",
       "      <td>...</td>\n",
       "      <td>1</td>\n",
       "      <td>1</td>\n",
       "      <td>1</td>\n",
       "      <td>2</td>\n",
       "      <td>2</td>\n",
       "      <td>1</td>\n",
       "      <td>1</td>\n",
       "      <td>1</td>\n",
       "      <td>1</td>\n",
       "      <td>1</td>\n",
       "    </tr>\n",
       "    <tr>\n",
       "      <th>top</th>\n",
       "      <td>False</td>\n",
       "      <td>False</td>\n",
       "      <td>False</td>\n",
       "      <td>False</td>\n",
       "      <td>False</td>\n",
       "      <td>False</td>\n",
       "      <td>False</td>\n",
       "      <td>False</td>\n",
       "      <td>False</td>\n",
       "      <td>False</td>\n",
       "      <td>...</td>\n",
       "      <td>False</td>\n",
       "      <td>False</td>\n",
       "      <td>False</td>\n",
       "      <td>False</td>\n",
       "      <td>False</td>\n",
       "      <td>False</td>\n",
       "      <td>False</td>\n",
       "      <td>False</td>\n",
       "      <td>False</td>\n",
       "      <td>False</td>\n",
       "    </tr>\n",
       "    <tr>\n",
       "      <th>freq</th>\n",
       "      <td>91231</td>\n",
       "      <td>91231</td>\n",
       "      <td>91231</td>\n",
       "      <td>91231</td>\n",
       "      <td>91231</td>\n",
       "      <td>91231</td>\n",
       "      <td>91231</td>\n",
       "      <td>91231</td>\n",
       "      <td>91231</td>\n",
       "      <td>91231</td>\n",
       "      <td>...</td>\n",
       "      <td>91231</td>\n",
       "      <td>91231</td>\n",
       "      <td>91231</td>\n",
       "      <td>75082</td>\n",
       "      <td>75082</td>\n",
       "      <td>91231</td>\n",
       "      <td>91231</td>\n",
       "      <td>91231</td>\n",
       "      <td>91231</td>\n",
       "      <td>91231</td>\n",
       "    </tr>\n",
       "  </tbody>\n",
       "</table>\n",
       "<p>4 rows × 99 columns</p>\n",
       "</div>"
      ],
      "text/plain": [
       "       household_id2 individual_id2 zone_code hh_member_relationship  \\\n",
       "count          91231          91231     91231                  91231   \n",
       "unique             1              1         1                      1   \n",
       "top            False          False     False                  False   \n",
       "freq           91231          91231     91231                  91231   \n",
       "\n",
       "       sex_of_hh_member marital_status hours_per_week_agg  \\\n",
       "count             91231          91231              91231   \n",
       "unique                1              1                  1   \n",
       "top               False          False              False   \n",
       "freq              91231          91231              91231   \n",
       "\n",
       "       hours_per_week_other_jobs hours_per_week_collect_water  pw_w3  \\\n",
       "count                      91231                        91231  91231   \n",
       "unique                         1                            1      1   \n",
       "top                        False                        False  False   \n",
       "freq                       91231                        91231  91231   \n",
       "\n",
       "          ...    5th grade or more PlantingType_1 PlantingType_2 North_Region  \\\n",
       "count     ...                91231          91231          91231        91231   \n",
       "unique    ...                    1              1              1            2   \n",
       "top       ...                False          False          False        False   \n",
       "freq      ...                91231          91231          91231        75082   \n",
       "\n",
       "       South_Region 0 Hours 1-10 Hours  10-40  40-60 60+ Hours  \n",
       "count         91231   91231      91231  91231  91231     91231  \n",
       "unique            2       1          1      1      1         1  \n",
       "top           False   False      False  False  False     False  \n",
       "freq          75082   91231      91231  91231  91231     91231  \n",
       "\n",
       "[4 rows x 99 columns]"
      ]
     },
     "execution_count": 69,
     "metadata": {},
     "output_type": "execute_result"
    }
   ],
   "source": [
    "newdf.isnull().describe()"
   ]
  },
  {
   "cell_type": "code",
   "execution_count": 70,
   "metadata": {
    "collapsed": true
   },
   "outputs": [],
   "source": [
    "\n",
    "catdf.to_csv(\"wrangled_dataset.csv\")\n",
    "catdf.to_pickle(\"wrangled_df.pkl\")"
   ]
  },
  {
   "cell_type": "markdown",
   "metadata": {},
   "source": [
    "#### Feature Selection"
   ]
  },
  {
   "cell_type": "code",
   "execution_count": 71,
   "metadata": {
    "collapsed": true
   },
   "outputs": [],
   "source": [
    "from sklearn.decomposition import PCA\n",
    "from sklearn.feature_selection import SelectFromModel\n",
    "from sklearn.linear_model import Ridge, Lasso, ElasticNet\n",
    "from sklearn.discriminant_analysis import LinearDiscriminantAnalysis as LDA\n",
    "\n",
    "from pandas.plotting import radviz"
   ]
  },
  {
   "cell_type": "markdown",
   "metadata": {},
   "source": [
    "###### Features & Target"
   ]
  },
  {
   "cell_type": "code",
   "execution_count": null,
   "metadata": {
    "collapsed": true
   },
   "outputs": [],
   "source": []
  },
  {
   "cell_type": "code",
   "execution_count": 72,
   "metadata": {},
   "outputs": [],
   "source": [
    "targeta=[\"total_hours\"]\n",
    "targetb=[\"0-2 Hours\",\"2-4 Hours\",\"4-6 Hours\",\"6-8 Hours\",\n",
    "\"8-10 Hours\", \"10-12 Hours\",\"12-14 Hours\",\"14-16 Hours\", \n",
    "\"16-20 Hours\", \"20-28 Hours\",\"28-40 Hours\", \"40-60 Hours\",\n",
    "\"100-140 Hours\", \"140+ Hours\" \n",
    "]\n",
    "x = list(newdf.columns)\n",
    "for i in targeta:\n",
    "    x.remove(i)\n"
   ]
  },
  {
   "cell_type": "code",
   "execution_count": 73,
   "metadata": {},
   "outputs": [],
   "source": [
    "features=[]\n",
    "for i in newdf.columns:\n",
    "        features.append(i)\n",
    "features.remove(\"household_id2\")\n",
    "features.remove(\"individual_id2\")\n",
    "X=newdf[features]\n",
    "y=newdf[targeta]\n"
   ]
  },
  {
   "cell_type": "code",
   "execution_count": 74,
   "metadata": {},
   "outputs": [
    {
     "data": {
      "text/plain": [
       "(91231, 99)"
      ]
     },
     "execution_count": 74,
     "metadata": {},
     "output_type": "execute_result"
    }
   ],
   "source": [
    "newdf.shape"
   ]
  },
  {
   "cell_type": "code",
   "execution_count": 75,
   "metadata": {},
   "outputs": [
    {
     "data": {
      "text/html": [
       "<div>\n",
       "<style>\n",
       "    .dataframe thead tr:only-child th {\n",
       "        text-align: right;\n",
       "    }\n",
       "\n",
       "    .dataframe thead th {\n",
       "        text-align: left;\n",
       "    }\n",
       "\n",
       "    .dataframe tbody tr th {\n",
       "        vertical-align: top;\n",
       "    }\n",
       "</style>\n",
       "<table border=\"1\" class=\"dataframe\">\n",
       "  <thead>\n",
       "    <tr style=\"text-align: right;\">\n",
       "      <th></th>\n",
       "      <th>household_id2</th>\n",
       "      <th>individual_id2</th>\n",
       "      <th>zone_code</th>\n",
       "      <th>hh_member_relationship</th>\n",
       "      <th>sex_of_hh_member</th>\n",
       "      <th>marital_status</th>\n",
       "      <th>hours_per_week_agg</th>\n",
       "      <th>hours_per_week_other_jobs</th>\n",
       "      <th>hours_per_week_collect_water</th>\n",
       "      <th>pw_w3</th>\n",
       "      <th>...</th>\n",
       "      <th>More than 6_HH_Members</th>\n",
       "      <th>0-5th Grade</th>\n",
       "      <th>5th grade or more</th>\n",
       "      <th>PlantingType_1</th>\n",
       "      <th>PlantingType_2</th>\n",
       "      <th>0 Hours</th>\n",
       "      <th>1-10 Hours</th>\n",
       "      <th>10-40</th>\n",
       "      <th>40-60</th>\n",
       "      <th>60+ Hours</th>\n",
       "    </tr>\n",
       "  </thead>\n",
       "  <tbody>\n",
       "    <tr>\n",
       "      <th>count</th>\n",
       "      <td>91231</td>\n",
       "      <td>91231</td>\n",
       "      <td>91231</td>\n",
       "      <td>91231</td>\n",
       "      <td>91231</td>\n",
       "      <td>91231</td>\n",
       "      <td>91231</td>\n",
       "      <td>91231</td>\n",
       "      <td>91231</td>\n",
       "      <td>91231</td>\n",
       "      <td>...</td>\n",
       "      <td>91231</td>\n",
       "      <td>91231</td>\n",
       "      <td>91231</td>\n",
       "      <td>91231</td>\n",
       "      <td>91231</td>\n",
       "      <td>91231</td>\n",
       "      <td>91231</td>\n",
       "      <td>91231</td>\n",
       "      <td>91231</td>\n",
       "      <td>91231</td>\n",
       "    </tr>\n",
       "    <tr>\n",
       "      <th>unique</th>\n",
       "      <td>1</td>\n",
       "      <td>1</td>\n",
       "      <td>1</td>\n",
       "      <td>1</td>\n",
       "      <td>1</td>\n",
       "      <td>1</td>\n",
       "      <td>1</td>\n",
       "      <td>1</td>\n",
       "      <td>1</td>\n",
       "      <td>1</td>\n",
       "      <td>...</td>\n",
       "      <td>1</td>\n",
       "      <td>1</td>\n",
       "      <td>1</td>\n",
       "      <td>1</td>\n",
       "      <td>1</td>\n",
       "      <td>1</td>\n",
       "      <td>1</td>\n",
       "      <td>1</td>\n",
       "      <td>1</td>\n",
       "      <td>1</td>\n",
       "    </tr>\n",
       "    <tr>\n",
       "      <th>top</th>\n",
       "      <td>False</td>\n",
       "      <td>False</td>\n",
       "      <td>False</td>\n",
       "      <td>False</td>\n",
       "      <td>False</td>\n",
       "      <td>False</td>\n",
       "      <td>False</td>\n",
       "      <td>False</td>\n",
       "      <td>False</td>\n",
       "      <td>False</td>\n",
       "      <td>...</td>\n",
       "      <td>False</td>\n",
       "      <td>False</td>\n",
       "      <td>False</td>\n",
       "      <td>False</td>\n",
       "      <td>False</td>\n",
       "      <td>False</td>\n",
       "      <td>False</td>\n",
       "      <td>False</td>\n",
       "      <td>False</td>\n",
       "      <td>False</td>\n",
       "    </tr>\n",
       "    <tr>\n",
       "      <th>freq</th>\n",
       "      <td>91231</td>\n",
       "      <td>91231</td>\n",
       "      <td>91231</td>\n",
       "      <td>91231</td>\n",
       "      <td>91231</td>\n",
       "      <td>91231</td>\n",
       "      <td>91231</td>\n",
       "      <td>91231</td>\n",
       "      <td>91231</td>\n",
       "      <td>91231</td>\n",
       "      <td>...</td>\n",
       "      <td>91231</td>\n",
       "      <td>91231</td>\n",
       "      <td>91231</td>\n",
       "      <td>91231</td>\n",
       "      <td>91231</td>\n",
       "      <td>91231</td>\n",
       "      <td>91231</td>\n",
       "      <td>91231</td>\n",
       "      <td>91231</td>\n",
       "      <td>91231</td>\n",
       "    </tr>\n",
       "  </tbody>\n",
       "</table>\n",
       "<p>4 rows × 94 columns</p>\n",
       "</div>"
      ],
      "text/plain": [
       "       household_id2 individual_id2 zone_code hh_member_relationship  \\\n",
       "count          91231          91231     91231                  91231   \n",
       "unique             1              1         1                      1   \n",
       "top            False          False     False                  False   \n",
       "freq           91231          91231     91231                  91231   \n",
       "\n",
       "       sex_of_hh_member marital_status hours_per_week_agg  \\\n",
       "count             91231          91231              91231   \n",
       "unique                1              1                  1   \n",
       "top               False          False              False   \n",
       "freq              91231          91231              91231   \n",
       "\n",
       "       hours_per_week_other_jobs hours_per_week_collect_water  pw_w3  \\\n",
       "count                      91231                        91231  91231   \n",
       "unique                         1                            1      1   \n",
       "top                        False                        False  False   \n",
       "freq                       91231                        91231  91231   \n",
       "\n",
       "          ...    More than 6_HH_Members 0-5th Grade 5th grade or more  \\\n",
       "count     ...                     91231       91231             91231   \n",
       "unique    ...                         1           1                 1   \n",
       "top       ...                     False       False             False   \n",
       "freq      ...                     91231       91231             91231   \n",
       "\n",
       "       PlantingType_1 PlantingType_2 0 Hours 1-10 Hours  10-40  40-60  \\\n",
       "count           91231          91231   91231      91231  91231  91231   \n",
       "unique              1              1       1          1      1      1   \n",
       "top             False          False   False      False  False  False   \n",
       "freq            91231          91231   91231      91231  91231  91231   \n",
       "\n",
       "       60+ Hours  \n",
       "count      91231  \n",
       "unique         1  \n",
       "top        False  \n",
       "freq       91231  \n",
       "\n",
       "[4 rows x 94 columns]"
      ]
     },
     "execution_count": 75,
     "metadata": {},
     "output_type": "execute_result"
    }
   ],
   "source": [
    "newdf = newdf.dropna(axis=1)\n",
    "newdf = newdf.dropna(axis=0)\n",
    "newdf.isnull().describe()"
   ]
  },
  {
   "cell_type": "markdown",
   "metadata": {},
   "source": [
    "###### Test, Train Split"
   ]
  },
  {
   "cell_type": "code",
   "execution_count": 76,
   "metadata": {},
   "outputs": [],
   "source": [
    "from sklearn.model_selection import train_test_split as tts\n",
    "X_train, X_test, y_train, y_test = tts(X,y,test_size=.25)\n"
   ]
  },
  {
   "cell_type": "markdown",
   "metadata": {},
   "source": [
    "###### Lasso"
   ]
  },
  {
   "cell_type": "code",
   "execution_count": 77,
   "metadata": {
    "scrolled": true
   },
   "outputs": [
    {
     "ename": "ValueError",
     "evalue": "Input contains NaN, infinity or a value too large for dtype('float64').",
     "output_type": "error",
     "traceback": [
      "\u001b[0;31m---------------------------------------------------------------------------\u001b[0m",
      "\u001b[0;31mValueError\u001b[0m                                Traceback (most recent call last)",
      "\u001b[0;32m<ipython-input-77-ab9d5f46ee72>\u001b[0m in \u001b[0;36m<module>\u001b[0;34m()\u001b[0m\n\u001b[1;32m      1\u001b[0m \u001b[0mmodel\u001b[0m\u001b[0;34m=\u001b[0m\u001b[0mLasso\u001b[0m\u001b[0;34m(\u001b[0m\u001b[0;34m)\u001b[0m\u001b[0;34m\u001b[0m\u001b[0m\n\u001b[0;32m----> 2\u001b[0;31m \u001b[0mmodel\u001b[0m\u001b[0;34m.\u001b[0m\u001b[0mfit\u001b[0m\u001b[0;34m(\u001b[0m\u001b[0mX\u001b[0m\u001b[0;34m,\u001b[0m\u001b[0my\u001b[0m\u001b[0;34m)\u001b[0m\u001b[0;34m\u001b[0m\u001b[0m\n\u001b[0m\u001b[1;32m      3\u001b[0m \u001b[0mprint\u001b[0m\u001b[0;34m(\u001b[0m\u001b[0mlist\u001b[0m\u001b[0;34m(\u001b[0m\u001b[0mzip\u001b[0m\u001b[0;34m(\u001b[0m\u001b[0mX\u001b[0m\u001b[0;34m,\u001b[0m \u001b[0mmodel\u001b[0m\u001b[0;34m.\u001b[0m\u001b[0mcoef_\u001b[0m\u001b[0;34m.\u001b[0m\u001b[0mtolist\u001b[0m\u001b[0;34m(\u001b[0m\u001b[0;34m)\u001b[0m\u001b[0;34m)\u001b[0m\u001b[0;34m)\u001b[0m\u001b[0;34m)\u001b[0m\u001b[0;34m\u001b[0m\u001b[0m\n",
      "\u001b[0;32m~/anaconda3/lib/python3.6/site-packages/sklearn/linear_model/coordinate_descent.py\u001b[0m in \u001b[0;36mfit\u001b[0;34m(self, X, y, check_input)\u001b[0m\n\u001b[1;32m    705\u001b[0m                              \u001b[0morder\u001b[0m\u001b[0;34m=\u001b[0m\u001b[0;34m'F'\u001b[0m\u001b[0;34m,\u001b[0m \u001b[0mdtype\u001b[0m\u001b[0;34m=\u001b[0m\u001b[0;34m[\u001b[0m\u001b[0mnp\u001b[0m\u001b[0;34m.\u001b[0m\u001b[0mfloat64\u001b[0m\u001b[0;34m,\u001b[0m \u001b[0mnp\u001b[0m\u001b[0;34m.\u001b[0m\u001b[0mfloat32\u001b[0m\u001b[0;34m]\u001b[0m\u001b[0;34m,\u001b[0m\u001b[0;34m\u001b[0m\u001b[0m\n\u001b[1;32m    706\u001b[0m                              \u001b[0mcopy\u001b[0m\u001b[0;34m=\u001b[0m\u001b[0mself\u001b[0m\u001b[0;34m.\u001b[0m\u001b[0mcopy_X\u001b[0m \u001b[0;32mand\u001b[0m \u001b[0mself\u001b[0m\u001b[0;34m.\u001b[0m\u001b[0mfit_intercept\u001b[0m\u001b[0;34m,\u001b[0m\u001b[0;34m\u001b[0m\u001b[0m\n\u001b[0;32m--> 707\u001b[0;31m                              multi_output=True, y_numeric=True)\n\u001b[0m\u001b[1;32m    708\u001b[0m             y = check_array(y, order='F', copy=False, dtype=X.dtype.type,\n\u001b[1;32m    709\u001b[0m                             ensure_2d=False)\n",
      "\u001b[0;32m~/anaconda3/lib/python3.6/site-packages/sklearn/utils/validation.py\u001b[0m in \u001b[0;36mcheck_X_y\u001b[0;34m(X, y, accept_sparse, dtype, order, copy, force_all_finite, ensure_2d, allow_nd, multi_output, ensure_min_samples, ensure_min_features, y_numeric, warn_on_dtype, estimator)\u001b[0m\n\u001b[1;32m    571\u001b[0m     X = check_array(X, accept_sparse, dtype, order, copy, force_all_finite,\n\u001b[1;32m    572\u001b[0m                     \u001b[0mensure_2d\u001b[0m\u001b[0;34m,\u001b[0m \u001b[0mallow_nd\u001b[0m\u001b[0;34m,\u001b[0m \u001b[0mensure_min_samples\u001b[0m\u001b[0;34m,\u001b[0m\u001b[0;34m\u001b[0m\u001b[0m\n\u001b[0;32m--> 573\u001b[0;31m                     ensure_min_features, warn_on_dtype, estimator)\n\u001b[0m\u001b[1;32m    574\u001b[0m     \u001b[0;32mif\u001b[0m \u001b[0mmulti_output\u001b[0m\u001b[0;34m:\u001b[0m\u001b[0;34m\u001b[0m\u001b[0m\n\u001b[1;32m    575\u001b[0m         y = check_array(y, 'csr', force_all_finite=True, ensure_2d=False,\n",
      "\u001b[0;32m~/anaconda3/lib/python3.6/site-packages/sklearn/utils/validation.py\u001b[0m in \u001b[0;36mcheck_array\u001b[0;34m(array, accept_sparse, dtype, order, copy, force_all_finite, ensure_2d, allow_nd, ensure_min_samples, ensure_min_features, warn_on_dtype, estimator)\u001b[0m\n\u001b[1;32m    451\u001b[0m                              % (array.ndim, estimator_name))\n\u001b[1;32m    452\u001b[0m         \u001b[0;32mif\u001b[0m \u001b[0mforce_all_finite\u001b[0m\u001b[0;34m:\u001b[0m\u001b[0;34m\u001b[0m\u001b[0m\n\u001b[0;32m--> 453\u001b[0;31m             \u001b[0m_assert_all_finite\u001b[0m\u001b[0;34m(\u001b[0m\u001b[0marray\u001b[0m\u001b[0;34m)\u001b[0m\u001b[0;34m\u001b[0m\u001b[0m\n\u001b[0m\u001b[1;32m    454\u001b[0m \u001b[0;34m\u001b[0m\u001b[0m\n\u001b[1;32m    455\u001b[0m     \u001b[0mshape_repr\u001b[0m \u001b[0;34m=\u001b[0m \u001b[0m_shape_repr\u001b[0m\u001b[0;34m(\u001b[0m\u001b[0marray\u001b[0m\u001b[0;34m.\u001b[0m\u001b[0mshape\u001b[0m\u001b[0;34m)\u001b[0m\u001b[0;34m\u001b[0m\u001b[0m\n",
      "\u001b[0;32m~/anaconda3/lib/python3.6/site-packages/sklearn/utils/validation.py\u001b[0m in \u001b[0;36m_assert_all_finite\u001b[0;34m(X)\u001b[0m\n\u001b[1;32m     42\u001b[0m             and not np.isfinite(X).all()):\n\u001b[1;32m     43\u001b[0m         raise ValueError(\"Input contains NaN, infinity\"\n\u001b[0;32m---> 44\u001b[0;31m                          \" or a value too large for %r.\" % X.dtype)\n\u001b[0m\u001b[1;32m     45\u001b[0m \u001b[0;34m\u001b[0m\u001b[0m\n\u001b[1;32m     46\u001b[0m \u001b[0;34m\u001b[0m\u001b[0m\n",
      "\u001b[0;31mValueError\u001b[0m: Input contains NaN, infinity or a value too large for dtype('float64')."
     ]
    }
   ],
   "source": [
    "model=Lasso()\n",
    "model.fit(X,y)\n",
    "print(list(zip(X, model.coef_.tolist())))"
   ]
  },
  {
   "cell_type": "code",
   "execution_count": null,
   "metadata": {},
   "outputs": [],
   "source": [
    "sfm=SelectFromModel(model)\n",
    "sfm.fit(X,y_a)\n",
    "print(list(X.iloc[:, sfm.get_support(indices=True)]))"
   ]
  },
  {
   "cell_type": "markdown",
   "metadata": {},
   "source": [
    "###### Non-Relevant Variables from Lasso\n",
    "\n",
    "\n",
    "By level/factor, I mean we may need to make it categorical or binary\n"
   ]
  },
  {
   "cell_type": "markdown",
   "metadata": {},
   "source": [
    "###### Ridge Regression"
   ]
  },
  {
   "cell_type": "code",
   "execution_count": null,
   "metadata": {},
   "outputs": [],
   "source": [
    "model=Ridge()\n",
    "model.fit(X,y_a)\n",
    "print(list(zip(X, model.coef_.tolist())))"
   ]
  },
  {
   "cell_type": "code",
   "execution_count": null,
   "metadata": {},
   "outputs": [],
   "source": [
    "sfm=SelectFromModel(model)\n",
    "sfm.fit(X,y_a)\n",
    "print(list(X.iloc[:, sfm.get_support(indices=True)]))"
   ]
  },
  {
   "cell_type": "markdown",
   "metadata": {},
   "source": [
    "###### Non-Relevant Variables from Ridge\n",
    "\n",
    "Most of these do not do much in terms of predicting  "
   ]
  },
  {
   "cell_type": "markdown",
   "metadata": {},
   "source": [
    "###### ElasticNet"
   ]
  },
  {
   "cell_type": "code",
   "execution_count": null,
   "metadata": {},
   "outputs": [],
   "source": [
    "model=ElasticNet()\n",
    "model.fit(X,y)\n",
    "print(list(zip(X, model.coef_.tolist())))"
   ]
  },
  {
   "cell_type": "code",
   "execution_count": null,
   "metadata": {},
   "outputs": [],
   "source": [
    "sfm=SelectFromModel(model)\n",
    "sfm.fit(X,y)\n",
    "print(list(X.iloc[:, sfm.get_support(indices=True)]))"
   ]
  },
  {
   "cell_type": "markdown",
   "metadata": {},
   "source": [
    "###### Relevant for Hours"
   ]
  },
  {
   "cell_type": "code",
   "execution_count": null,
   "metadata": {
    "collapsed": true
   },
   "outputs": [],
   "source": [
    "cols=[\"hh_member_relationship\", \"age_of_hh_member\",\n",
    "      \"pw_w3\", \"extension_program\", \"who_in_charge_of_crops\",\n",
    "      \"amt_of_crop_harvest\", \"amt_of_crop_harvest_units\"\n",
    "     ]"
   ]
  }
 ],
 "metadata": {
  "kernelspec": {
   "display_name": "Python 3",
   "language": "python",
   "name": "python3"
  },
  "language_info": {
   "codemirror_mode": {
    "name": "ipython",
    "version": 3
   },
   "file_extension": ".py",
   "mimetype": "text/x-python",
   "name": "python",
   "nbconvert_exporter": "python",
   "pygments_lexer": "ipython3",
   "version": "3.6.3"
  }
 },
 "nbformat": 4,
 "nbformat_minor": 2
}
